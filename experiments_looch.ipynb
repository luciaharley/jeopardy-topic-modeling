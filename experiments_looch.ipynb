{
 "cells": [
  {
   "cell_type": "code",
   "execution_count": 63,
   "id": "tested-shoulder",
   "metadata": {
    "ExecuteTime": {
     "end_time": "2021-05-11T01:47:41.936884Z",
     "start_time": "2021-05-11T01:47:41.266707Z"
    }
   },
   "outputs": [],
   "source": [
    "import pandas as pd\n",
    "import numpy as np\n",
    "import scipy as sp\n",
    "import sklearn\n",
    "import matplotlib.pyplot as plt\n",
    "import sys\n",
    "from nltk.corpus import stopwords\n",
    "import nltk\n",
    "from gensim.models import ldamodel, CoherenceModel\n",
    "import gensim.corpora\n",
    "from sklearn.feature_extraction.text import CountVectorizer, TfidfTransformer\n",
    "from sklearn.decomposition import NMF\n",
    "from sklearn.preprocessing import normalize"
   ]
  },
  {
   "cell_type": "code",
   "execution_count": 3,
   "id": "opposed-cruise",
   "metadata": {
    "ExecuteTime": {
     "end_time": "2021-05-11T05:56:06.553820Z",
     "start_time": "2021-05-11T05:56:05.959239Z"
    }
   },
   "outputs": [
    {
     "data": {
      "text/html": [
       "<div>\n",
       "<style scoped>\n",
       "    .dataframe tbody tr th:only-of-type {\n",
       "        vertical-align: middle;\n",
       "    }\n",
       "\n",
       "    .dataframe tbody tr th {\n",
       "        vertical-align: top;\n",
       "    }\n",
       "\n",
       "    .dataframe thead th {\n",
       "        text-align: right;\n",
       "    }\n",
       "</style>\n",
       "<table border=\"1\" class=\"dataframe\">\n",
       "  <thead>\n",
       "    <tr style=\"text-align: right;\">\n",
       "      <th></th>\n",
       "      <th>Show Number</th>\n",
       "      <th>Air Date</th>\n",
       "      <th>Round</th>\n",
       "      <th>Category</th>\n",
       "      <th>Value</th>\n",
       "      <th>Question</th>\n",
       "      <th>Answer</th>\n",
       "    </tr>\n",
       "  </thead>\n",
       "  <tbody>\n",
       "    <tr>\n",
       "      <th>0</th>\n",
       "      <td>4680</td>\n",
       "      <td>2004-12-31</td>\n",
       "      <td>Jeopardy!</td>\n",
       "      <td>HISTORY</td>\n",
       "      <td>$200</td>\n",
       "      <td>For the last 8 years of his life, Galileo was ...</td>\n",
       "      <td>Copernicus</td>\n",
       "    </tr>\n",
       "    <tr>\n",
       "      <th>1</th>\n",
       "      <td>4680</td>\n",
       "      <td>2004-12-31</td>\n",
       "      <td>Jeopardy!</td>\n",
       "      <td>ESPN's TOP 10 ALL-TIME ATHLETES</td>\n",
       "      <td>$200</td>\n",
       "      <td>No. 2: 1912 Olympian; football star at Carlisl...</td>\n",
       "      <td>Jim Thorpe</td>\n",
       "    </tr>\n",
       "    <tr>\n",
       "      <th>2</th>\n",
       "      <td>4680</td>\n",
       "      <td>2004-12-31</td>\n",
       "      <td>Jeopardy!</td>\n",
       "      <td>EVERYBODY TALKS ABOUT IT...</td>\n",
       "      <td>$200</td>\n",
       "      <td>The city of Yuma in this state has a record av...</td>\n",
       "      <td>Arizona</td>\n",
       "    </tr>\n",
       "    <tr>\n",
       "      <th>3</th>\n",
       "      <td>4680</td>\n",
       "      <td>2004-12-31</td>\n",
       "      <td>Jeopardy!</td>\n",
       "      <td>THE COMPANY LINE</td>\n",
       "      <td>$200</td>\n",
       "      <td>In 1963, live on \"The Art Linkletter Show\", th...</td>\n",
       "      <td>McDonald's</td>\n",
       "    </tr>\n",
       "    <tr>\n",
       "      <th>4</th>\n",
       "      <td>4680</td>\n",
       "      <td>2004-12-31</td>\n",
       "      <td>Jeopardy!</td>\n",
       "      <td>EPITAPHS &amp; TRIBUTES</td>\n",
       "      <td>$200</td>\n",
       "      <td>Signer of the Dec. of Indep., framer of the Co...</td>\n",
       "      <td>John Adams</td>\n",
       "    </tr>\n",
       "  </tbody>\n",
       "</table>\n",
       "</div>"
      ],
      "text/plain": [
       "   Show Number    Air Date      Round                         Category  Value  \\\n",
       "0         4680  2004-12-31  Jeopardy!                          HISTORY   $200   \n",
       "1         4680  2004-12-31  Jeopardy!  ESPN's TOP 10 ALL-TIME ATHLETES   $200   \n",
       "2         4680  2004-12-31  Jeopardy!      EVERYBODY TALKS ABOUT IT...   $200   \n",
       "3         4680  2004-12-31  Jeopardy!                 THE COMPANY LINE   $200   \n",
       "4         4680  2004-12-31  Jeopardy!              EPITAPHS & TRIBUTES   $200   \n",
       "\n",
       "                                            Question      Answer  \n",
       "0  For the last 8 years of his life, Galileo was ...  Copernicus  \n",
       "1  No. 2: 1912 Olympian; football star at Carlisl...  Jim Thorpe  \n",
       "2  The city of Yuma in this state has a record av...     Arizona  \n",
       "3  In 1963, live on \"The Art Linkletter Show\", th...  McDonald's  \n",
       "4  Signer of the Dec. of Indep., framer of the Co...  John Adams  "
      ]
     },
     "execution_count": 3,
     "metadata": {},
     "output_type": "execute_result"
    }
   ],
   "source": [
    "df = pd.read_csv('JEOPARDY_CSV.csv')\n",
    "df.head()"
   ]
  },
  {
   "cell_type": "code",
   "execution_count": 4,
   "id": "labeled-foundation",
   "metadata": {
    "ExecuteTime": {
     "end_time": "2021-05-11T05:56:08.207113Z",
     "start_time": "2021-05-11T05:56:08.191876Z"
    }
   },
   "outputs": [
    {
     "data": {
      "text/plain": [
       "array(['Jeopardy!', 'Double Jeopardy!', 'Final Jeopardy!', 'Tiebreaker'],\n",
       "      dtype=object)"
      ]
     },
     "execution_count": 4,
     "metadata": {},
     "output_type": "execute_result"
    }
   ],
   "source": [
    "df[' Round'].unique()"
   ]
  },
  {
   "cell_type": "markdown",
   "id": "closing-monitoring",
   "metadata": {},
   "source": [
    "# Clean up data"
   ]
  },
  {
   "cell_type": "code",
   "execution_count": 6,
   "id": "united-journey",
   "metadata": {
    "ExecuteTime": {
     "end_time": "2021-05-11T05:56:10.316975Z",
     "start_time": "2021-05-11T05:56:10.314130Z"
    }
   },
   "outputs": [],
   "source": [
    "df.columns = ['show_id', 'date', 'round', 'category', 'value', 'question', 'answer']"
   ]
  },
  {
   "cell_type": "code",
   "execution_count": 7,
   "id": "collaborative-grounds",
   "metadata": {
    "ExecuteTime": {
     "end_time": "2021-05-11T05:56:19.844397Z",
     "start_time": "2021-05-11T05:56:19.841924Z"
    },
    "scrolled": true
   },
   "outputs": [],
   "source": [
    "#df.value.unique()"
   ]
  },
  {
   "cell_type": "code",
   "execution_count": 8,
   "id": "higher-effect",
   "metadata": {
    "ExecuteTime": {
     "end_time": "2021-05-11T05:56:23.405973Z",
     "start_time": "2021-05-11T05:56:23.403467Z"
    }
   },
   "outputs": [],
   "source": [
    "#df[df.value == 'None']"
   ]
  },
  {
   "cell_type": "code",
   "execution_count": 9,
   "id": "minute-might",
   "metadata": {
    "ExecuteTime": {
     "end_time": "2021-05-11T05:56:34.459190Z",
     "start_time": "2021-05-11T05:56:34.440162Z"
    }
   },
   "outputs": [],
   "source": [
    "df['value'].replace({'None': '$0'}, inplace=True)"
   ]
  },
  {
   "cell_type": "code",
   "execution_count": 10,
   "id": "developmental-kingdom",
   "metadata": {
    "ExecuteTime": {
     "end_time": "2021-05-11T05:56:35.566122Z",
     "start_time": "2021-05-11T05:56:35.437823Z"
    }
   },
   "outputs": [],
   "source": [
    "df['value'] = df['value'].apply(lambda x: int(x[1:].replace(',',''))) #remove $ remove comma and convert to int"
   ]
  },
  {
   "cell_type": "code",
   "execution_count": 11,
   "id": "equal-arnold",
   "metadata": {
    "ExecuteTime": {
     "end_time": "2021-05-11T05:56:55.792101Z",
     "start_time": "2021-05-11T05:56:55.674996Z"
    }
   },
   "outputs": [],
   "source": [
    "df['year'] = df['date'].apply(lambda x: int(x[:4]))"
   ]
  },
  {
   "cell_type": "code",
   "execution_count": 12,
   "id": "collective-toolbox",
   "metadata": {
    "ExecuteTime": {
     "end_time": "2021-05-11T05:57:08.069770Z",
     "start_time": "2021-05-11T05:57:08.060006Z"
    }
   },
   "outputs": [
    {
     "data": {
      "text/html": [
       "<div>\n",
       "<style scoped>\n",
       "    .dataframe tbody tr th:only-of-type {\n",
       "        vertical-align: middle;\n",
       "    }\n",
       "\n",
       "    .dataframe tbody tr th {\n",
       "        vertical-align: top;\n",
       "    }\n",
       "\n",
       "    .dataframe thead th {\n",
       "        text-align: right;\n",
       "    }\n",
       "</style>\n",
       "<table border=\"1\" class=\"dataframe\">\n",
       "  <thead>\n",
       "    <tr style=\"text-align: right;\">\n",
       "      <th></th>\n",
       "      <th>show_id</th>\n",
       "      <th>date</th>\n",
       "      <th>round</th>\n",
       "      <th>category</th>\n",
       "      <th>value</th>\n",
       "      <th>question</th>\n",
       "      <th>answer</th>\n",
       "      <th>year</th>\n",
       "    </tr>\n",
       "  </thead>\n",
       "  <tbody>\n",
       "    <tr>\n",
       "      <th>0</th>\n",
       "      <td>4680</td>\n",
       "      <td>2004-12-31</td>\n",
       "      <td>Jeopardy!</td>\n",
       "      <td>HISTORY</td>\n",
       "      <td>200</td>\n",
       "      <td>For the last 8 years of his life, Galileo was ...</td>\n",
       "      <td>Copernicus</td>\n",
       "      <td>2004</td>\n",
       "    </tr>\n",
       "    <tr>\n",
       "      <th>1</th>\n",
       "      <td>4680</td>\n",
       "      <td>2004-12-31</td>\n",
       "      <td>Jeopardy!</td>\n",
       "      <td>ESPN's TOP 10 ALL-TIME ATHLETES</td>\n",
       "      <td>200</td>\n",
       "      <td>No. 2: 1912 Olympian; football star at Carlisl...</td>\n",
       "      <td>Jim Thorpe</td>\n",
       "      <td>2004</td>\n",
       "    </tr>\n",
       "    <tr>\n",
       "      <th>2</th>\n",
       "      <td>4680</td>\n",
       "      <td>2004-12-31</td>\n",
       "      <td>Jeopardy!</td>\n",
       "      <td>EVERYBODY TALKS ABOUT IT...</td>\n",
       "      <td>200</td>\n",
       "      <td>The city of Yuma in this state has a record av...</td>\n",
       "      <td>Arizona</td>\n",
       "      <td>2004</td>\n",
       "    </tr>\n",
       "    <tr>\n",
       "      <th>3</th>\n",
       "      <td>4680</td>\n",
       "      <td>2004-12-31</td>\n",
       "      <td>Jeopardy!</td>\n",
       "      <td>THE COMPANY LINE</td>\n",
       "      <td>200</td>\n",
       "      <td>In 1963, live on \"The Art Linkletter Show\", th...</td>\n",
       "      <td>McDonald's</td>\n",
       "      <td>2004</td>\n",
       "    </tr>\n",
       "    <tr>\n",
       "      <th>4</th>\n",
       "      <td>4680</td>\n",
       "      <td>2004-12-31</td>\n",
       "      <td>Jeopardy!</td>\n",
       "      <td>EPITAPHS &amp; TRIBUTES</td>\n",
       "      <td>200</td>\n",
       "      <td>Signer of the Dec. of Indep., framer of the Co...</td>\n",
       "      <td>John Adams</td>\n",
       "      <td>2004</td>\n",
       "    </tr>\n",
       "  </tbody>\n",
       "</table>\n",
       "</div>"
      ],
      "text/plain": [
       "   show_id        date      round                         category  value  \\\n",
       "0     4680  2004-12-31  Jeopardy!                          HISTORY    200   \n",
       "1     4680  2004-12-31  Jeopardy!  ESPN's TOP 10 ALL-TIME ATHLETES    200   \n",
       "2     4680  2004-12-31  Jeopardy!      EVERYBODY TALKS ABOUT IT...    200   \n",
       "3     4680  2004-12-31  Jeopardy!                 THE COMPANY LINE    200   \n",
       "4     4680  2004-12-31  Jeopardy!              EPITAPHS & TRIBUTES    200   \n",
       "\n",
       "                                            question      answer  year  \n",
       "0  For the last 8 years of his life, Galileo was ...  Copernicus  2004  \n",
       "1  No. 2: 1912 Olympian; football star at Carlisl...  Jim Thorpe  2004  \n",
       "2  The city of Yuma in this state has a record av...     Arizona  2004  \n",
       "3  In 1963, live on \"The Art Linkletter Show\", th...  McDonald's  2004  \n",
       "4  Signer of the Dec. of Indep., framer of the Co...  John Adams  2004  "
      ]
     },
     "execution_count": 12,
     "metadata": {},
     "output_type": "execute_result"
    }
   ],
   "source": [
    "df.head()"
   ]
  },
  {
   "cell_type": "code",
   "execution_count": 13,
   "id": "occupational-interaction",
   "metadata": {
    "ExecuteTime": {
     "end_time": "2021-05-11T05:58:32.414514Z",
     "start_time": "2021-05-11T05:58:32.398603Z"
    }
   },
   "outputs": [
    {
     "data": {
      "text/plain": [
       "array(['Jeopardy!', 'Double Jeopardy!', 'Final Jeopardy!', 'Tiebreaker'],\n",
       "      dtype=object)"
      ]
     },
     "execution_count": 13,
     "metadata": {},
     "output_type": "execute_result"
    }
   ],
   "source": [
    "df['round'].unique()"
   ]
  },
  {
   "cell_type": "markdown",
   "id": "ordinary-local",
   "metadata": {},
   "source": [
    "# Explore categories"
   ]
  },
  {
   "cell_type": "code",
   "execution_count": 14,
   "id": "twelve-survival",
   "metadata": {
    "ExecuteTime": {
     "end_time": "2021-05-11T06:17:15.400790Z",
     "start_time": "2021-05-11T06:17:15.361779Z"
    }
   },
   "outputs": [
    {
     "data": {
      "text/plain": [
       "BEFORE & AFTER             547\n",
       "SCIENCE                    519\n",
       "LITERATURE                 496\n",
       "AMERICAN HISTORY           418\n",
       "POTPOURRI                  401\n",
       "WORLD HISTORY              377\n",
       "WORD ORIGINS               371\n",
       "COLLEGES & UNIVERSITIES    351\n",
       "HISTORY                    349\n",
       "SPORTS                     342\n",
       "U.S. CITIES                339\n",
       "WORLD GEOGRAPHY            338\n",
       "BODIES OF WATER            327\n",
       "ANIMALS                    324\n",
       "STATE CAPITALS             314\n",
       "BUSINESS & INDUSTRY        311\n",
       "ISLANDS                    301\n",
       "WORLD CAPITALS             300\n",
       "U.S. GEOGRAPHY             299\n",
       "RELIGION                   297\n",
       "SHAKESPEARE                294\n",
       "OPERA                      294\n",
       "LANGUAGES                  284\n",
       "BALLET                     282\n",
       "TELEVISION                 281\n",
       "Name: category, dtype: int64"
      ]
     },
     "execution_count": 14,
     "metadata": {},
     "output_type": "execute_result"
    }
   ],
   "source": [
    "df.category.value_counts()[:25]"
   ]
  },
  {
   "cell_type": "markdown",
   "id": "applied-comparative",
   "metadata": {},
   "source": [
    "# Preprocess text"
   ]
  },
  {
   "cell_type": "code",
   "execution_count": 16,
   "id": "sweet-mandate",
   "metadata": {
    "ExecuteTime": {
     "end_time": "2021-05-11T18:13:19.167061Z",
     "start_time": "2021-05-11T18:13:18.559847Z"
    }
   },
   "outputs": [
    {
     "name": "stderr",
     "output_type": "stream",
     "text": [
      "[nltk_data] Downloading package stopwords to /Users/Lucia/nltk_data...\n",
      "[nltk_data]   Package stopwords is already up-to-date!\n"
     ]
    },
    {
     "data": {
      "text/plain": [
       "True"
      ]
     },
     "execution_count": 16,
     "metadata": {},
     "output_type": "execute_result"
    }
   ],
   "source": [
    "nltk.download('stopwords')"
   ]
  },
  {
   "cell_type": "code",
   "execution_count": 17,
   "id": "mobile-second",
   "metadata": {
    "ExecuteTime": {
     "end_time": "2021-05-11T18:35:49.655312Z",
     "start_time": "2021-05-11T18:35:49.649176Z"
    }
   },
   "outputs": [
    {
     "data": {
      "text/plain": [
       "(1179, 8)"
      ]
     },
     "execution_count": 17,
     "metadata": {},
     "output_type": "execute_result"
    }
   ],
   "source": [
    "test.shape"
   ]
  },
  {
   "cell_type": "code",
   "execution_count": 34,
   "id": "fourth-disability",
   "metadata": {
    "ExecuteTime": {
     "end_time": "2021-05-11T18:35:52.260570Z",
     "start_time": "2021-05-11T18:35:52.256924Z"
    }
   },
   "outputs": [],
   "source": [
    "one_yr = df[df.year==1984]\n",
    "data_text = one_yr[['question']]"
   ]
  },
  {
   "cell_type": "code",
   "execution_count": 35,
   "id": "random-tradition",
   "metadata": {
    "ExecuteTime": {
     "end_time": "2021-05-11T18:36:16.974631Z",
     "start_time": "2021-05-11T18:36:16.970373Z"
    },
    "scrolled": true
   },
   "outputs": [
    {
     "data": {
      "text/plain": [
       "['what', 'the', '\"d.c.\"', 'stands', 'for']"
      ]
     },
     "execution_count": 35,
     "metadata": {},
     "output_type": "execute_result"
    }
   ],
   "source": [
    "data_text.iloc[0]['question'].lower().split()"
   ]
  },
  {
   "cell_type": "code",
   "execution_count": 36,
   "id": "deadly-rochester",
   "metadata": {
    "ExecuteTime": {
     "end_time": "2021-05-11T18:37:22.175748Z",
     "start_time": "2021-05-11T18:37:20.641574Z"
    },
    "scrolled": true
   },
   "outputs": [],
   "source": [
    "for idx in range(len(data_text)):\n",
    "    #go through each word in each data_text row, remove stopwords, and set them on the index.\n",
    "    data_text.iloc[idx]['question'] = [word for word in data_text.iloc[idx]['question'].lower().split(' ') if word not in stopwords.words('english')]"
   ]
  },
  {
   "cell_type": "code",
   "execution_count": 37,
   "id": "focal-peoples",
   "metadata": {
    "ExecuteTime": {
     "end_time": "2021-05-11T18:37:33.301382Z",
     "start_time": "2021-05-11T18:37:33.294398Z"
    }
   },
   "outputs": [
    {
     "data": {
      "text/html": [
       "<div>\n",
       "<style scoped>\n",
       "    .dataframe tbody tr th:only-of-type {\n",
       "        vertical-align: middle;\n",
       "    }\n",
       "\n",
       "    .dataframe tbody tr th {\n",
       "        vertical-align: top;\n",
       "    }\n",
       "\n",
       "    .dataframe thead th {\n",
       "        text-align: right;\n",
       "    }\n",
       "</style>\n",
       "<table border=\"1\" class=\"dataframe\">\n",
       "  <thead>\n",
       "    <tr style=\"text-align: right;\">\n",
       "      <th></th>\n",
       "      <th>question</th>\n",
       "    </tr>\n",
       "  </thead>\n",
       "  <tbody>\n",
       "    <tr>\n",
       "      <th>8544</th>\n",
       "      <td>[\"d.c.\", stands]</td>\n",
       "    </tr>\n",
       "    <tr>\n",
       "      <th>8545</th>\n",
       "      <td>[color, lucky, \"letter, day\"]</td>\n",
       "    </tr>\n",
       "    <tr>\n",
       "      <th>8546</th>\n",
       "      <td>[2, wheels, head, toward, produce,, 1, goes, d...</td>\n",
       "    </tr>\n",
       "    <tr>\n",
       "      <th>8547</th>\n",
       "      <td>[varieties, include, chinese, &amp;, dijon]</td>\n",
       "    </tr>\n",
       "    <tr>\n",
       "      <th>8548</th>\n",
       "      <td>[turned, \"our, gang\", member,, became, top, bo...</td>\n",
       "    </tr>\n",
       "  </tbody>\n",
       "</table>\n",
       "</div>"
      ],
      "text/plain": [
       "                                               question\n",
       "8544                                   [\"d.c.\", stands]\n",
       "8545                      [color, lucky, \"letter, day\"]\n",
       "8546  [2, wheels, head, toward, produce,, 1, goes, d...\n",
       "8547            [varieties, include, chinese, &, dijon]\n",
       "8548  [turned, \"our, gang\", member,, became, top, bo..."
      ]
     },
     "execution_count": 37,
     "metadata": {},
     "output_type": "execute_result"
    }
   ],
   "source": [
    "data_text.head()"
   ]
  },
  {
   "cell_type": "code",
   "execution_count": 46,
   "id": "sharp-resistance",
   "metadata": {
    "ExecuteTime": {
     "end_time": "2021-05-11T18:38:32.827520Z",
     "start_time": "2021-05-11T18:38:32.824002Z"
    },
    "scrolled": true
   },
   "outputs": [],
   "source": [
    "train_headlines = [value[0] for value in data_text.iloc[0:].values]\n",
    "id2word = gensim.corpora.Dictionary(train_headlines)\n",
    "corpus = [id2word.doc2bow(text) for text in train_headlines]"
   ]
  },
  {
   "cell_type": "markdown",
   "id": "black-commission",
   "metadata": {},
   "source": [
    "## Calculate coherence scores on 3 different years to find best number of topics"
   ]
  },
  {
   "cell_type": "code",
   "execution_count": 78,
   "id": "cleared-rotation",
   "metadata": {},
   "outputs": [],
   "source": [
    "# adapted from https://www.machinelearningplus.com/nlp/topic-modeling-gensim-python/#17howtofindtheoptimalnumberoftopicsforlda\n",
    "def compute_coherence_values(dictionary, corpus, texts, limit, start=2, step=3):\n",
    "    \"\"\"\n",
    "    Compute c_v coherence for various number of topics\n",
    "\n",
    "    Parameters:\n",
    "    ----------\n",
    "    dictionary : Gensim dictionary\n",
    "    corpus : Gensim corpus\n",
    "    texts : List of input texts\n",
    "    limit : Max num of topics\n",
    "\n",
    "    Returns:\n",
    "    -------\n",
    "    model_list : List of LDA topic models\n",
    "    coherence_values : Coherence values corresponding to the LDA model with respective number of topics\n",
    "    \"\"\"\n",
    "    coherence_values = []\n",
    "    model_list = []\n",
    "    for num_topics in range(start, limit, step):\n",
    "        lda_model = ldamodel.LdaModel(corpus=corpus, id2word=id2word, num_topics=num_topics)\n",
    "        coherencemodel = CoherenceModel(model=lda_model, texts=train_headlines, dictionary=dictionary, coherence='c_v')\n",
    "        coherence_values.append(coherencemodel.get_coherence())\n",
    "\n",
    "    return model_list, coherence_values"
   ]
  },
  {
   "cell_type": "code",
   "execution_count": 66,
   "id": "preliminary-symposium",
   "metadata": {},
   "outputs": [],
   "source": [
    "model_list_1984, coherence_values_1984 = compute_coherence_values(dictionary=id2word, corpus=corpus, texts=train_headlines, start=2, limit=40, step=6)"
   ]
  },
  {
   "cell_type": "code",
   "execution_count": 68,
   "id": "gorgeous-vanilla",
   "metadata": {},
   "outputs": [],
   "source": [
    "one_yr = df[df.year==1994]\n",
    "data_text = one_yr[['question']]\n",
    "for idx in range(len(data_text)):\n",
    "    #go through each word in each data_text row, remove stopwords, and set them on the index.\n",
    "    data_text.iloc[idx]['question'] = [word for word in data_text.iloc[idx]['question'].lower().split(' ') if word not in stopwords.words('english')]\n",
    "train_headlines = [value[0] for value in data_text.iloc[0:].values]\n",
    "id2word = gensim.corpora.Dictionary(train_headlines)\n",
    "corpus = [id2word.doc2bow(text) for text in train_headlines]\n",
    "model_list_1994, coherence_values_1994 = compute_coherence_values(dictionary=id2word, corpus=corpus, texts=train_headlines, start=2, limit=40, step=6)"
   ]
  },
  {
   "cell_type": "code",
   "execution_count": 73,
   "id": "pursuant-internet",
   "metadata": {},
   "outputs": [],
   "source": [
    "one_yr = df[df.year==2004]\n",
    "data_text = one_yr[['question']]\n",
    "for idx in range(len(data_text)):\n",
    "    #go through each word in each data_text row, remove stopwords, and set them on the index.\n",
    "    data_text.iloc[idx]['question'] = [word for word in data_text.iloc[idx]['question'].lower().split(' ') if word not in stopwords.words('english')]\n",
    "train_headlines = [value[0] for value in data_text.iloc[0:].values]\n",
    "id2word = gensim.corpora.Dictionary(train_headlines)\n",
    "corpus = [id2word.doc2bow(text) for text in train_headlines]\n",
    "model_list_2004, coherence_values_2004 = compute_coherence_values(dictionary=id2word, corpus=corpus, texts=train_headlines, start=2, limit=40, step=6)"
   ]
  },
  {
   "cell_type": "code",
   "execution_count": 77,
   "id": "female-likelihood",
   "metadata": {},
   "outputs": [
    {
     "data": {
      "image/png": "[encoded data removed]",
      "text/plain": [
       "<Figure size 432x288 with 1 Axes>"
      ]
     },
     "metadata": {
      "needs_background": "light"
     },
     "output_type": "display_data"
    }
   ],
   "source": [
    "# Show graph\n",
    "limit=40; start=2; step=6;\n",
    "x = range(start, limit, step)\n",
    "plt.plot(x, coherence_values_1984, label='1984')\n",
    "plt.plot(x, coherence_values_1994, label='1994')\n",
    "plt.plot(x, coherence_values_2004, label='2004')\n",
    "\n",
    "plt.xlabel(\"Num Topics\")\n",
    "plt.ylabel(\"Coherence score\")\n",
    "plt.title('Num Topics vs. Coherence Score')\n",
    "plt.legend()\n",
    "plt.show()"
   ]
  },
  {
   "cell_type": "markdown",
   "id": "presidential-armstrong",
   "metadata": {},
   "source": [
    "Based on coherence plots for 1984, 1994, and 2004, it looks like 15-20 topics is a reasonable amount for the full dataset. We don't want our topics to be too similar to each other"
   ]
  },
  {
   "cell_type": "markdown",
   "id": "serial-mother",
   "metadata": {},
   "source": [
    "# Run LDA on full dataset"
   ]
  },
  {
   "cell_type": "markdown",
   "id": "alien-nicholas",
   "metadata": {},
   "source": [
    "### Generate and save corpus and fitted model"
   ]
  },
  {
   "cell_type": "code",
   "execution_count": 79,
   "id": "premium-anaheim",
   "metadata": {},
   "outputs": [],
   "source": [
    "data_text = df[['question']]\n",
    "for idx in range(len(data_text)):\n",
    "    #go through each word in each data_text row, remove stopwords, and set them on the index.\n",
    "    data_text.iloc[idx]['question'] = [word for word in data_text.iloc[idx]['question'].lower().split(' ') if word not in stopwords.words('english')]\n",
    "train_headlines = [value[0] for value in data_text.iloc[0:].values]\n",
    "id2word = gensim.corpora.Dictionary(train_headlines)\n",
    "corpus = [id2word.doc2bow(text) for text in train_headlines]"
   ]
  },
  {
   "cell_type": "code",
   "execution_count": 80,
   "id": "quantitative-irrigation",
   "metadata": {},
   "outputs": [],
   "source": [
    "import pickle\n",
    "filename = 'train_headlines'\n",
    "outfile = open(filename,'wb')\n",
    "pickle.dump(train_headlines,outfile)\n",
    "outfile.close()"
   ]
  },
  {
   "cell_type": "code",
   "execution_count": 85,
   "id": "offensive-winner",
   "metadata": {},
   "outputs": [],
   "source": [
    "filename = 'corpus'\n",
    "outfile = open(filename,'wb')\n",
    "pickle.dump(corpus,outfile)\n",
    "outfile.close()"
   ]
  },
  {
   "cell_type": "code",
   "execution_count": 86,
   "id": "single-mathematics",
   "metadata": {
    "ExecuteTime": {
     "end_time": "2021-05-11T18:39:42.261367Z",
     "start_time": "2021-05-11T18:39:41.456019Z"
    }
   },
   "outputs": [],
   "source": [
    "lda = ldamodel.LdaModel(corpus=corpus, id2word=id2word, num_topics=15)"
   ]
  },
  {
   "cell_type": "code",
   "execution_count": 109,
   "id": "unavailable-cowboy",
   "metadata": {},
   "outputs": [],
   "source": [
    "#lda.save('/Users/Lucia/Documents/USF/MSDS626_Case_Studies/jeopardy-topic-modeling/lda_trained')"
   ]
  },
  {
   "cell_type": "markdown",
   "id": "amino-zealand",
   "metadata": {},
   "source": [
    "# Start Running Here!"
   ]
  },
  {
   "cell_type": "markdown",
   "id": "stunning-arabic",
   "metadata": {},
   "source": [
    "### Load saved files"
   ]
  },
  {
   "cell_type": "code",
   "execution_count": 175,
   "id": "indian-elements",
   "metadata": {},
   "outputs": [],
   "source": [
    "filename = 'corpus'\n",
    "infile = open(filename,'rb')\n",
    "corpus = pickle.load(infile)\n",
    "infile.close()"
   ]
  },
  {
   "cell_type": "code",
   "execution_count": 179,
   "id": "consistent-shower",
   "metadata": {},
   "outputs": [],
   "source": [
    "filename = 'lda_trained.id2word'\n",
    "infile = open(filename,'rb')\n",
    "id2word = pickle.load(infile)\n",
    "infile.close()"
   ]
  },
  {
   "cell_type": "code",
   "execution_count": 171,
   "id": "conventional-frame",
   "metadata": {},
   "outputs": [],
   "source": [
    "filename = 'lda_trained'\n",
    "lda_loaded = ldamodel.LdaModel.load(temp_file)"
   ]
  },
  {
   "cell_type": "markdown",
   "id": "opponent-accent",
   "metadata": {},
   "source": [
    "### Get LDA topics"
   ]
  },
  {
   "cell_type": "code",
   "execution_count": 123,
   "id": "unable-paintball",
   "metadata": {
    "ExecuteTime": {
     "end_time": "2021-05-11T18:39:57.832465Z",
     "start_time": "2021-05-11T18:39:57.810117Z"
    }
   },
   "outputs": [
    {
     "data": {
      "text/html": [
       "<div>\n",
       "<style scoped>\n",
       "    .dataframe tbody tr th:only-of-type {\n",
       "        vertical-align: middle;\n",
       "    }\n",
       "\n",
       "    .dataframe tbody tr th {\n",
       "        vertical-align: top;\n",
       "    }\n",
       "\n",
       "    .dataframe thead th {\n",
       "        text-align: right;\n",
       "    }\n",
       "</style>\n",
       "<table border=\"1\" class=\"dataframe\">\n",
       "  <thead>\n",
       "    <tr style=\"text-align: right;\">\n",
       "      <th></th>\n",
       "      <th>Topic # 01</th>\n",
       "      <th>Topic # 02</th>\n",
       "      <th>Topic # 03</th>\n",
       "      <th>Topic # 04</th>\n",
       "      <th>Topic # 05</th>\n",
       "      <th>Topic # 06</th>\n",
       "      <th>Topic # 07</th>\n",
       "      <th>Topic # 08</th>\n",
       "      <th>Topic # 09</th>\n",
       "      <th>Topic # 10</th>\n",
       "      <th>Topic # 11</th>\n",
       "      <th>Topic # 12</th>\n",
       "      <th>Topic # 13</th>\n",
       "      <th>Topic # 14</th>\n",
       "      <th>Topic # 15</th>\n",
       "    </tr>\n",
       "  </thead>\n",
       "  <tbody>\n",
       "    <tr>\n",
       "      <th>0</th>\n",
       "      <td>new</td>\n",
       "      <td>&lt;a</td>\n",
       "      <td>\"the</td>\n",
       "      <td>war</td>\n",
       "      <td>&amp;</td>\n",
       "      <td>&amp;</td>\n",
       "      <td>used</td>\n",
       "      <td>&amp;</td>\n",
       "      <td>&amp;</td>\n",
       "      <td>&amp;</td>\n",
       "      <td>&amp;</td>\n",
       "      <td>state</td>\n",
       "      <td>&amp;</td>\n",
       "      <td></td>\n",
       "      <td>known</td>\n",
       "    </tr>\n",
       "    <tr>\n",
       "      <th>1</th>\n",
       "      <td>&amp;</td>\n",
       "      <td>seen</td>\n",
       "      <td>&amp;</td>\n",
       "      <td>world</td>\n",
       "      <td>\"the</td>\n",
       "      <td>great</td>\n",
       "      <td>&amp;</td>\n",
       "      <td>king</td>\n",
       "      <td>played</td>\n",
       "      <td>born</td>\n",
       "      <td>first</td>\n",
       "      <td>city</td>\n",
       "      <td>greek</td>\n",
       "      <td>clue</td>\n",
       "      <td>&amp;</td>\n",
       "    </tr>\n",
       "    <tr>\n",
       "      <th>2</th>\n",
       "      <td>founded</td>\n",
       "      <td>name</td>\n",
       "      <td>wrote</td>\n",
       "      <td>woman</td>\n",
       "      <td>show</td>\n",
       "      <td>work</td>\n",
       "      <td>french</td>\n",
       "      <td>family</td>\n",
       "      <td>meaning</td>\n",
       "      <td>character</td>\n",
       "      <td>president</td>\n",
       "      <td>capital</td>\n",
       "      <td>found</td>\n",
       "      <td>(&lt;a</td>\n",
       "      <td>also</td>\n",
       "    </tr>\n",
       "    <tr>\n",
       "      <th>3</th>\n",
       "      <td>first</td>\n",
       "      <td>means</td>\n",
       "      <td>novel</td>\n",
       "      <td>&amp;</td>\n",
       "      <td>century</td>\n",
       "      <td>set</td>\n",
       "      <td>make</td>\n",
       "      <td>go</td>\n",
       "      <td>use</td>\n",
       "      <td>movie</td>\n",
       "      <td>became</td>\n",
       "      <td>&amp;</td>\n",
       "      <td>comes</td>\n",
       "      <td>crew</td>\n",
       "      <td>called</td>\n",
       "    </tr>\n",
       "    <tr>\n",
       "      <th>4</th>\n",
       "      <td>york</td>\n",
       "      <td>target=\"_blank\"&gt;here&lt;/a&gt;</td>\n",
       "      <td>title</td>\n",
       "      <td>little</td>\n",
       "      <td>one</td>\n",
       "      <td>gave</td>\n",
       "      <td>type</td>\n",
       "      <td>english</td>\n",
       "      <td>classic</td>\n",
       "      <td>back</td>\n",
       "      <td>u.s.</td>\n",
       "      <td>part</td>\n",
       "      <td>name</td>\n",
       "      <td>&lt;a</td>\n",
       "      <td>island</td>\n",
       "    </tr>\n",
       "    <tr>\n",
       "      <th>5</th>\n",
       "      <td>long</td>\n",
       "      <td>whose</td>\n",
       "      <td>3</td>\n",
       "      <td>based</td>\n",
       "      <td>big</td>\n",
       "      <td>took</td>\n",
       "      <td>word</td>\n",
       "      <td>major</td>\n",
       "      <td>film</td>\n",
       "      <td>came</td>\n",
       "      <td>years</td>\n",
       "      <td>national</td>\n",
       "      <td>often</td>\n",
       "      <td>i'm</td>\n",
       "      <td>american</td>\n",
       "    </tr>\n",
       "    <tr>\n",
       "      <th>6</th>\n",
       "      <td>country's</td>\n",
       "      <td>old</td>\n",
       "      <td>1</td>\n",
       "      <td>good</td>\n",
       "      <td>game</td>\n",
       "      <td>house</td>\n",
       "      <td>\"a</td>\n",
       "      <td>nickname</td>\n",
       "      <td>he's</td>\n",
       "      <td>first</td>\n",
       "      <td>one</td>\n",
       "      <td>named</td>\n",
       "      <td>latin</td>\n",
       "      <td>number</td>\n",
       "      <td>country</td>\n",
       "    </tr>\n",
       "    <tr>\n",
       "      <th>7</th>\n",
       "      <td>day</td>\n",
       "      <td>target=\"_blank\"&gt;this&lt;/a&gt;</td>\n",
       "      <td>song</td>\n",
       "      <td>book</td>\n",
       "      <td>like</td>\n",
       "      <td>place</td>\n",
       "      <td>year</td>\n",
       "      <td>german</td>\n",
       "      <td>name</td>\n",
       "      <td>know</td>\n",
       "      <td>time</td>\n",
       "      <td>many</td>\n",
       "      <td>said</td>\n",
       "      <td>reports</td>\n",
       "      <td>british</td>\n",
       "    </tr>\n",
       "    <tr>\n",
       "      <th>8</th>\n",
       "      <td>former</td>\n",
       "      <td>that's</td>\n",
       "      <td>2</td>\n",
       "      <td>one</td>\n",
       "      <td>of\"</td>\n",
       "      <td>red</td>\n",
       "      <td>term</td>\n",
       "      <td>end</td>\n",
       "      <td>common</td>\n",
       "      <td>early</td>\n",
       "      <td>include</td>\n",
       "      <td>company</td>\n",
       "      <td>would</td>\n",
       "      <td>person</td>\n",
       "      <td>south</td>\n",
       "    </tr>\n",
       "    <tr>\n",
       "      <th>9</th>\n",
       "      <td>--</td>\n",
       "      <td>might</td>\n",
       "      <td>hit</td>\n",
       "      <td>led</td>\n",
       "      <td>museum</td>\n",
       "      <td>these,</td>\n",
       "      <td>this,</td>\n",
       "      <td>george</td>\n",
       "      <td>they're</td>\n",
       "      <td>oscar</td>\n",
       "      <td>2</td>\n",
       "      <td>university</td>\n",
       "      <td>music</td>\n",
       "      <td>city's</td>\n",
       "      <td>river</td>\n",
       "    </tr>\n",
       "    <tr>\n",
       "      <th>10</th>\n",
       "      <td>city</td>\n",
       "      <td>line</td>\n",
       "      <td>\"i</td>\n",
       "      <td>head</td>\n",
       "      <td>put</td>\n",
       "      <td>white</td>\n",
       "      <td>says</td>\n",
       "      <td>name</td>\n",
       "      <td>6</td>\n",
       "      <td>title</td>\n",
       "      <td>died</td>\n",
       "      <td>near</td>\n",
       "      <td>small</td>\n",
       "      <td>hall</td>\n",
       "      <td>largest</td>\n",
       "    </tr>\n",
       "    <tr>\n",
       "      <th>11</th>\n",
       "      <td>stands</td>\n",
       "      <td>last</td>\n",
       "      <td>play</td>\n",
       "      <td>letter</td>\n",
       "      <td>call</td>\n",
       "      <td>find</td>\n",
       "      <td>one</td>\n",
       "      <td>young</td>\n",
       "      <td>give</td>\n",
       "      <td>language</td>\n",
       "      <td>went</td>\n",
       "      <td>william</td>\n",
       "      <td>\"to</td>\n",
       "      <td>shows</td>\n",
       "      <td>group</td>\n",
       "    </tr>\n",
       "    <tr>\n",
       "      <th>12</th>\n",
       "      <td>college</td>\n",
       "      <td>de</td>\n",
       "      <td>first</td>\n",
       "      <td>story</td>\n",
       "      <td>could</td>\n",
       "      <td>james</td>\n",
       "      <td>st.</td>\n",
       "      <td>one</td>\n",
       "      <td>word</td>\n",
       "      <td>italian</td>\n",
       "      <td>million</td>\n",
       "      <td>u.s.</td>\n",
       "      <td>short</td>\n",
       "      <td>target=\"_blank\"&gt;jimmy</td>\n",
       "      <td>name</td>\n",
       "    </tr>\n",
       "    <tr>\n",
       "      <th>13</th>\n",
       "      <td>series</td>\n",
       "      <td>west</td>\n",
       "      <td>author</td>\n",
       "      <td>married</td>\n",
       "      <td>1st</td>\n",
       "      <td>form</td>\n",
       "      <td>served</td>\n",
       "      <td>heard</td>\n",
       "      <td>goes</td>\n",
       "      <td>created</td>\n",
       "      <td>school</td>\n",
       "      <td>team</td>\n",
       "      <td>much</td>\n",
       "      <td>1996</td>\n",
       "      <td>city</td>\n",
       "    </tr>\n",
       "    <tr>\n",
       "      <th>14</th>\n",
       "      <td>chief</td>\n",
       "      <td>one</td>\n",
       "      <td>no.</td>\n",
       "      <td>built</td>\n",
       "      <td>robert</td>\n",
       "      <td>town</td>\n",
       "      <td>take</td>\n",
       "      <td>killed</td>\n",
       "      <td>color</td>\n",
       "      <td>death</td>\n",
       "      <td>man</td>\n",
       "      <td>park</td>\n",
       "      <td>words</td>\n",
       "      <td>european</td>\n",
       "      <td>north</td>\n",
       "    </tr>\n",
       "    <tr>\n",
       "      <th>15</th>\n",
       "      <td>military</td>\n",
       "      <td>get</td>\n",
       "      <td>film</td>\n",
       "      <td>first</td>\n",
       "      <td>though</td>\n",
       "      <td>area</td>\n",
       "      <td>god</td>\n",
       "      <td>top</td>\n",
       "      <td>someone</td>\n",
       "      <td>held</td>\n",
       "      <td>later</td>\n",
       "      <td>including</td>\n",
       "      <td>1997</td>\n",
       "      <td>street</td>\n",
       "      <td>one</td>\n",
       "    </tr>\n",
       "    <tr>\n",
       "      <th>16</th>\n",
       "      <td>late</td>\n",
       "      <td>general</td>\n",
       "      <td>body</td>\n",
       "      <td>actress</td>\n",
       "      <td>role</td>\n",
       "      <td>opera</td>\n",
       "      <td>roman</td>\n",
       "      <td>comedy</td>\n",
       "      <td>kind</td>\n",
       "      <td>playing</td>\n",
       "      <td>son</td>\n",
       "      <td>center</td>\n",
       "      <td>city,</td>\n",
       "      <td>&amp;</td>\n",
       "      <td>named</td>\n",
       "    </tr>\n",
       "    <tr>\n",
       "      <th>17</th>\n",
       "      <td>june</td>\n",
       "      <td>&amp;</td>\n",
       "      <td>love</td>\n",
       "      <td>animal</td>\n",
       "      <td>called</td>\n",
       "      <td>us</td>\n",
       "      <td>phrase</td>\n",
       "      <td>may</td>\n",
       "      <td>uses</td>\n",
       "      <td>poet</td>\n",
       "      <td>come</td>\n",
       "      <td>director</td>\n",
       "      <td>composer</td>\n",
       "      <td>gives</td>\n",
       "      <td>miles</td>\n",
       "    </tr>\n",
       "    <tr>\n",
       "      <th>18</th>\n",
       "      <td>opened</td>\n",
       "      <td>see</td>\n",
       "      <td>musical</td>\n",
       "      <td>another</td>\n",
       "      <td>among</td>\n",
       "      <td>1998</td>\n",
       "      <td>called</td>\n",
       "      <td>point</td>\n",
       "      <td>one</td>\n",
       "      <td>leader</td>\n",
       "      <td>got</td>\n",
       "      <td>fruit</td>\n",
       "      <td>states</td>\n",
       "      <td>charles</td>\n",
       "      <td>world's</td>\n",
       "    </tr>\n",
       "    <tr>\n",
       "      <th>19</th>\n",
       "      <td>john</td>\n",
       "      <td>say</td>\n",
       "      <td>water</td>\n",
       "      <td>spanish</td>\n",
       "      <td>food</td>\n",
       "      <td>march</td>\n",
       "      <td>black</td>\n",
       "      <td>middle</td>\n",
       "      <td>man,</td>\n",
       "      <td>played</td>\n",
       "      <td>july</td>\n",
       "      <td>become</td>\n",
       "      <td>type</td>\n",
       "      <td>prince</td>\n",
       "      <td>sea</td>\n",
       "    </tr>\n",
       "  </tbody>\n",
       "</table>\n",
       "</div>"
      ],
      "text/plain": [
       "   Topic # 01                Topic # 02 Topic # 03 Topic # 04 Topic # 05  \\\n",
       "0         new                        <a       \"the        war          &   \n",
       "1           &                      seen          &      world       \"the   \n",
       "2     founded                      name      wrote      woman       show   \n",
       "3       first                     means      novel          &    century   \n",
       "4        york  target=\"_blank\">here</a>      title     little        one   \n",
       "5        long                     whose          3      based        big   \n",
       "6   country's                       old          1       good       game   \n",
       "7         day  target=\"_blank\">this</a>       song       book       like   \n",
       "8      former                    that's          2        one        of\"   \n",
       "9          --                     might        hit        led     museum   \n",
       "10       city                      line         \"i       head        put   \n",
       "11     stands                      last       play     letter       call   \n",
       "12    college                        de      first      story      could   \n",
       "13     series                      west     author    married        1st   \n",
       "14      chief                       one        no.      built     robert   \n",
       "15   military                       get       film      first     though   \n",
       "16       late                   general       body    actress       role   \n",
       "17       june                         &       love     animal     called   \n",
       "18     opened                       see    musical    another      among   \n",
       "19       john                       say      water    spanish       food   \n",
       "\n",
       "   Topic # 06 Topic # 07 Topic # 08 Topic # 09 Topic # 10 Topic # 11  \\\n",
       "0           &       used          &          &          &          &   \n",
       "1       great          &       king     played       born      first   \n",
       "2        work     french     family    meaning  character  president   \n",
       "3         set       make         go        use      movie     became   \n",
       "4        gave       type    english    classic       back       u.s.   \n",
       "5        took       word      major       film       came      years   \n",
       "6       house         \"a   nickname       he's      first        one   \n",
       "7       place       year     german       name       know       time   \n",
       "8         red       term        end     common      early    include   \n",
       "9      these,      this,     george    they're      oscar          2   \n",
       "10      white       says       name          6      title       died   \n",
       "11       find        one      young       give   language       went   \n",
       "12      james        st.        one       word    italian    million   \n",
       "13       form     served      heard       goes    created     school   \n",
       "14       town       take     killed      color      death        man   \n",
       "15       area        god        top    someone       held      later   \n",
       "16      opera      roman     comedy       kind    playing        son   \n",
       "17         us     phrase        may       uses       poet       come   \n",
       "18       1998     called      point        one     leader        got   \n",
       "19      march      black     middle       man,     played       july   \n",
       "\n",
       "    Topic # 12 Topic # 13             Topic # 14 Topic # 15  \n",
       "0        state          &                             known  \n",
       "1         city      greek                   clue          &  \n",
       "2      capital      found                    (<a       also  \n",
       "3            &      comes                   crew     called  \n",
       "4         part       name                     <a     island  \n",
       "5     national      often                    i'm   american  \n",
       "6        named      latin                 number    country  \n",
       "7         many       said                reports    british  \n",
       "8      company      would                 person      south  \n",
       "9   university      music                 city's      river  \n",
       "10        near      small                   hall    largest  \n",
       "11     william        \"to                  shows      group  \n",
       "12        u.s.      short  target=\"_blank\">jimmy       name  \n",
       "13        team       much                   1996       city  \n",
       "14        park      words               european      north  \n",
       "15   including       1997                 street        one  \n",
       "16      center      city,                      &      named  \n",
       "17    director   composer                  gives      miles  \n",
       "18       fruit     states                charles    world's  \n",
       "19      become       type                 prince        sea  "
      ]
     },
     "execution_count": 123,
     "metadata": {},
     "output_type": "execute_result"
    }
   ],
   "source": [
    "def get_lda_topics(model, num_topics):\n",
    "    word_dict = {};\n",
    "    for i in range(num_topics):\n",
    "        words = model.show_topic(i, topn = 20);\n",
    "        word_dict['Topic # ' + '{:02d}'.format(i+1)] = [i[0] for i in words];\n",
    "    return pd.DataFrame(word_dict);\n",
    "\n",
    "get_lda_topics(lda_loaded, 15)"
   ]
  },
  {
   "cell_type": "markdown",
   "id": "bored-instrument",
   "metadata": {},
   "source": [
    "### Topics for document 0 "
   ]
  },
  {
   "cell_type": "code",
   "execution_count": 211,
   "id": "boring-sterling",
   "metadata": {},
   "outputs": [
    {
     "data": {
      "text/plain": [
       "[(3, 0.40707853),\n",
       " (4, 0.109314956),\n",
       " (5, 0.106218316),\n",
       " (10, 0.19765902),\n",
       " (14, 0.11303881)]"
      ]
     },
     "execution_count": 211,
     "metadata": {},
     "output_type": "execute_result"
    }
   ],
   "source": [
    "lda.get_document_topics(corpus[0])"
   ]
  },
  {
   "cell_type": "markdown",
   "id": "fantastic-reverse",
   "metadata": {},
   "source": [
    "This shows that there is a 40% probability that this document is in topic 3, a 10% probability that it is in topic 4, etc."
   ]
  },
  {
   "cell_type": "markdown",
   "id": "bored-complex",
   "metadata": {},
   "source": [
    "### Get best topic for each doc"
   ]
  },
  {
   "cell_type": "code",
   "execution_count": 212,
   "id": "statewide-framework",
   "metadata": {},
   "outputs": [],
   "source": [
    "most_likely_topic=[]\n",
    "for i, _ in enumerate(corpus):\n",
    "    likelihoods = dict(lda.get_document_topics(corpus[i]))\n",
    "    most_likely_topic.append(max(likelihoods,key=likelihoods.get))"
   ]
  },
  {
   "cell_type": "code",
   "execution_count": 214,
   "id": "endless-november",
   "metadata": {},
   "outputs": [],
   "source": [
    "df['topic'] = most_likely_topic"
   ]
  },
  {
   "cell_type": "code",
   "execution_count": 215,
   "id": "smaller-reunion",
   "metadata": {},
   "outputs": [
    {
     "data": {
      "text/html": [
       "<div>\n",
       "<style scoped>\n",
       "    .dataframe tbody tr th:only-of-type {\n",
       "        vertical-align: middle;\n",
       "    }\n",
       "\n",
       "    .dataframe tbody tr th {\n",
       "        vertical-align: top;\n",
       "    }\n",
       "\n",
       "    .dataframe thead th {\n",
       "        text-align: right;\n",
       "    }\n",
       "</style>\n",
       "<table border=\"1\" class=\"dataframe\">\n",
       "  <thead>\n",
       "    <tr style=\"text-align: right;\">\n",
       "      <th></th>\n",
       "      <th>show_id</th>\n",
       "      <th>date</th>\n",
       "      <th>round</th>\n",
       "      <th>category</th>\n",
       "      <th>value</th>\n",
       "      <th>question</th>\n",
       "      <th>answer</th>\n",
       "      <th>year</th>\n",
       "      <th>topic</th>\n",
       "    </tr>\n",
       "  </thead>\n",
       "  <tbody>\n",
       "    <tr>\n",
       "      <th>0</th>\n",
       "      <td>4680</td>\n",
       "      <td>2004-12-31</td>\n",
       "      <td>Jeopardy!</td>\n",
       "      <td>HISTORY</td>\n",
       "      <td>200</td>\n",
       "      <td>For the last 8 years of his life, Galileo was ...</td>\n",
       "      <td>Copernicus</td>\n",
       "      <td>2004</td>\n",
       "      <td>3</td>\n",
       "    </tr>\n",
       "    <tr>\n",
       "      <th>1</th>\n",
       "      <td>4680</td>\n",
       "      <td>2004-12-31</td>\n",
       "      <td>Jeopardy!</td>\n",
       "      <td>ESPN's TOP 10 ALL-TIME ATHLETES</td>\n",
       "      <td>200</td>\n",
       "      <td>No. 2: 1912 Olympian; football star at Carlisl...</td>\n",
       "      <td>Jim Thorpe</td>\n",
       "      <td>2004</td>\n",
       "      <td>8</td>\n",
       "    </tr>\n",
       "    <tr>\n",
       "      <th>2</th>\n",
       "      <td>4680</td>\n",
       "      <td>2004-12-31</td>\n",
       "      <td>Jeopardy!</td>\n",
       "      <td>EVERYBODY TALKS ABOUT IT...</td>\n",
       "      <td>200</td>\n",
       "      <td>The city of Yuma in this state has a record av...</td>\n",
       "      <td>Arizona</td>\n",
       "      <td>2004</td>\n",
       "      <td>6</td>\n",
       "    </tr>\n",
       "    <tr>\n",
       "      <th>3</th>\n",
       "      <td>4680</td>\n",
       "      <td>2004-12-31</td>\n",
       "      <td>Jeopardy!</td>\n",
       "      <td>THE COMPANY LINE</td>\n",
       "      <td>200</td>\n",
       "      <td>In 1963, live on \"The Art Linkletter Show\", th...</td>\n",
       "      <td>McDonald's</td>\n",
       "      <td>2004</td>\n",
       "      <td>8</td>\n",
       "    </tr>\n",
       "    <tr>\n",
       "      <th>4</th>\n",
       "      <td>4680</td>\n",
       "      <td>2004-12-31</td>\n",
       "      <td>Jeopardy!</td>\n",
       "      <td>EPITAPHS &amp; TRIBUTES</td>\n",
       "      <td>200</td>\n",
       "      <td>Signer of the Dec. of Indep., framer of the Co...</td>\n",
       "      <td>John Adams</td>\n",
       "      <td>2004</td>\n",
       "      <td>12</td>\n",
       "    </tr>\n",
       "    <tr>\n",
       "      <th>...</th>\n",
       "      <td>...</td>\n",
       "      <td>...</td>\n",
       "      <td>...</td>\n",
       "      <td>...</td>\n",
       "      <td>...</td>\n",
       "      <td>...</td>\n",
       "      <td>...</td>\n",
       "      <td>...</td>\n",
       "      <td>...</td>\n",
       "    </tr>\n",
       "    <tr>\n",
       "      <th>216925</th>\n",
       "      <td>4999</td>\n",
       "      <td>2006-05-11</td>\n",
       "      <td>Double Jeopardy!</td>\n",
       "      <td>RIDDLE ME THIS</td>\n",
       "      <td>2000</td>\n",
       "      <td>This Puccini opera turns on the solution to 3 ...</td>\n",
       "      <td>Turandot</td>\n",
       "      <td>2006</td>\n",
       "      <td>5</td>\n",
       "    </tr>\n",
       "    <tr>\n",
       "      <th>216926</th>\n",
       "      <td>4999</td>\n",
       "      <td>2006-05-11</td>\n",
       "      <td>Double Jeopardy!</td>\n",
       "      <td>\"T\" BIRDS</td>\n",
       "      <td>2000</td>\n",
       "      <td>In North America this term is properly applied...</td>\n",
       "      <td>a titmouse</td>\n",
       "      <td>2006</td>\n",
       "      <td>14</td>\n",
       "    </tr>\n",
       "    <tr>\n",
       "      <th>216927</th>\n",
       "      <td>4999</td>\n",
       "      <td>2006-05-11</td>\n",
       "      <td>Double Jeopardy!</td>\n",
       "      <td>AUTHORS IN THEIR YOUTH</td>\n",
       "      <td>2000</td>\n",
       "      <td>In Penny Lane, where this \"Hellraiser\" grew up...</td>\n",
       "      <td>Clive Barker</td>\n",
       "      <td>2006</td>\n",
       "      <td>3</td>\n",
       "    </tr>\n",
       "    <tr>\n",
       "      <th>216928</th>\n",
       "      <td>4999</td>\n",
       "      <td>2006-05-11</td>\n",
       "      <td>Double Jeopardy!</td>\n",
       "      <td>QUOTATIONS</td>\n",
       "      <td>2000</td>\n",
       "      <td>From Ft. Sill, Okla. he made the plea, Arizona...</td>\n",
       "      <td>Geronimo</td>\n",
       "      <td>2006</td>\n",
       "      <td>11</td>\n",
       "    </tr>\n",
       "    <tr>\n",
       "      <th>216929</th>\n",
       "      <td>4999</td>\n",
       "      <td>2006-05-11</td>\n",
       "      <td>Final Jeopardy!</td>\n",
       "      <td>HISTORIC NAMES</td>\n",
       "      <td>0</td>\n",
       "      <td>A silent movie title includes the last name of...</td>\n",
       "      <td>Grigori Alexandrovich Potemkin</td>\n",
       "      <td>2006</td>\n",
       "      <td>2</td>\n",
       "    </tr>\n",
       "  </tbody>\n",
       "</table>\n",
       "<p>216930 rows × 9 columns</p>\n",
       "</div>"
      ],
      "text/plain": [
       "        show_id        date             round  \\\n",
       "0          4680  2004-12-31         Jeopardy!   \n",
       "1          4680  2004-12-31         Jeopardy!   \n",
       "2          4680  2004-12-31         Jeopardy!   \n",
       "3          4680  2004-12-31         Jeopardy!   \n",
       "4          4680  2004-12-31         Jeopardy!   \n",
       "...         ...         ...               ...   \n",
       "216925     4999  2006-05-11  Double Jeopardy!   \n",
       "216926     4999  2006-05-11  Double Jeopardy!   \n",
       "216927     4999  2006-05-11  Double Jeopardy!   \n",
       "216928     4999  2006-05-11  Double Jeopardy!   \n",
       "216929     4999  2006-05-11   Final Jeopardy!   \n",
       "\n",
       "                               category  value  \\\n",
       "0                               HISTORY    200   \n",
       "1       ESPN's TOP 10 ALL-TIME ATHLETES    200   \n",
       "2           EVERYBODY TALKS ABOUT IT...    200   \n",
       "3                      THE COMPANY LINE    200   \n",
       "4                   EPITAPHS & TRIBUTES    200   \n",
       "...                                 ...    ...   \n",
       "216925                   RIDDLE ME THIS   2000   \n",
       "216926                        \"T\" BIRDS   2000   \n",
       "216927           AUTHORS IN THEIR YOUTH   2000   \n",
       "216928                       QUOTATIONS   2000   \n",
       "216929                   HISTORIC NAMES      0   \n",
       "\n",
       "                                                 question  \\\n",
       "0       For the last 8 years of his life, Galileo was ...   \n",
       "1       No. 2: 1912 Olympian; football star at Carlisl...   \n",
       "2       The city of Yuma in this state has a record av...   \n",
       "3       In 1963, live on \"The Art Linkletter Show\", th...   \n",
       "4       Signer of the Dec. of Indep., framer of the Co...   \n",
       "...                                                   ...   \n",
       "216925  This Puccini opera turns on the solution to 3 ...   \n",
       "216926  In North America this term is properly applied...   \n",
       "216927  In Penny Lane, where this \"Hellraiser\" grew up...   \n",
       "216928  From Ft. Sill, Okla. he made the plea, Arizona...   \n",
       "216929  A silent movie title includes the last name of...   \n",
       "\n",
       "                                answer  year  topic  \n",
       "0                           Copernicus  2004      3  \n",
       "1                           Jim Thorpe  2004      8  \n",
       "2                              Arizona  2004      6  \n",
       "3                           McDonald's  2004      8  \n",
       "4                           John Adams  2004     12  \n",
       "...                                ...   ...    ...  \n",
       "216925                        Turandot  2006      5  \n",
       "216926                      a titmouse  2006     14  \n",
       "216927                    Clive Barker  2006      3  \n",
       "216928                        Geronimo  2006     11  \n",
       "216929  Grigori Alexandrovich Potemkin  2006      2  \n",
       "\n",
       "[216930 rows x 9 columns]"
      ]
     },
     "execution_count": 215,
     "metadata": {},
     "output_type": "execute_result"
    }
   ],
   "source": [
    "df"
   ]
  },
  {
   "cell_type": "code",
   "execution_count": null,
   "id": "mexican-schema",
   "metadata": {},
   "outputs": [],
   "source": []
  }
 ],
 "metadata": {
  "kernelspec": {
   "display_name": "Python 3",
   "language": "python",
   "name": "python3"
  },
  "language_info": {
   "codemirror_mode": {
    "name": "ipython",
    "version": 3
   },
   "file_extension": ".py",
   "mimetype": "text/x-python",
   "name": "python",
   "nbconvert_exporter": "python",
   "pygments_lexer": "ipython3",
   "version": "3.8.1"
  }
 },
 "nbformat": 4,
 "nbformat_minor": 5
}
