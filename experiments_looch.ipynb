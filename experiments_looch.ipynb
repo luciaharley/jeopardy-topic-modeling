{
 "cells": [
  {
   "cell_type": "code",
   "execution_count": 63,
   "id": "yellow-acceptance",
   "metadata": {
    "ExecuteTime": {
     "end_time": "2021-05-11T01:47:41.936884Z",
     "start_time": "2021-05-11T01:47:41.266707Z"
    }
   },
   "outputs": [],
   "source": [
    "import pandas as pd\n",
    "import numpy as np\n",
    "import scipy as sp\n",
    "import sklearn\n",
    "import matplotlib.pyplot as plt\n",
    "import sys\n",
    "from nltk.corpus import stopwords\n",
    "import nltk\n",
    "from gensim.models import ldamodel, CoherenceModel\n",
    "import gensim.corpora\n",
    "from sklearn.feature_extraction.text import CountVectorizer, TfidfTransformer\n",
    "from sklearn.decomposition import NMF\n",
    "from sklearn.preprocessing import normalize"
   ]
  },
  {
   "cell_type": "code",
   "execution_count": 3,
   "id": "greenhouse-arabic",
   "metadata": {
    "ExecuteTime": {
     "end_time": "2021-05-11T05:56:06.553820Z",
     "start_time": "2021-05-11T05:56:05.959239Z"
    }
   },
   "outputs": [
    {
     "data": {
      "text/html": [
       "<div>\n",
       "<style scoped>\n",
       "    .dataframe tbody tr th:only-of-type {\n",
       "        vertical-align: middle;\n",
       "    }\n",
       "\n",
       "    .dataframe tbody tr th {\n",
       "        vertical-align: top;\n",
       "    }\n",
       "\n",
       "    .dataframe thead th {\n",
       "        text-align: right;\n",
       "    }\n",
       "</style>\n",
       "<table border=\"1\" class=\"dataframe\">\n",
       "  <thead>\n",
       "    <tr style=\"text-align: right;\">\n",
       "      <th></th>\n",
       "      <th>Show Number</th>\n",
       "      <th>Air Date</th>\n",
       "      <th>Round</th>\n",
       "      <th>Category</th>\n",
       "      <th>Value</th>\n",
       "      <th>Question</th>\n",
       "      <th>Answer</th>\n",
       "    </tr>\n",
       "  </thead>\n",
       "  <tbody>\n",
       "    <tr>\n",
       "      <th>0</th>\n",
       "      <td>4680</td>\n",
       "      <td>2004-12-31</td>\n",
       "      <td>Jeopardy!</td>\n",
       "      <td>HISTORY</td>\n",
       "      <td>$200</td>\n",
       "      <td>For the last 8 years of his life, Galileo was ...</td>\n",
       "      <td>Copernicus</td>\n",
       "    </tr>\n",
       "    <tr>\n",
       "      <th>1</th>\n",
       "      <td>4680</td>\n",
       "      <td>2004-12-31</td>\n",
       "      <td>Jeopardy!</td>\n",
       "      <td>ESPN's TOP 10 ALL-TIME ATHLETES</td>\n",
       "      <td>$200</td>\n",
       "      <td>No. 2: 1912 Olympian; football star at Carlisl...</td>\n",
       "      <td>Jim Thorpe</td>\n",
       "    </tr>\n",
       "    <tr>\n",
       "      <th>2</th>\n",
       "      <td>4680</td>\n",
       "      <td>2004-12-31</td>\n",
       "      <td>Jeopardy!</td>\n",
       "      <td>EVERYBODY TALKS ABOUT IT...</td>\n",
       "      <td>$200</td>\n",
       "      <td>The city of Yuma in this state has a record av...</td>\n",
       "      <td>Arizona</td>\n",
       "    </tr>\n",
       "    <tr>\n",
       "      <th>3</th>\n",
       "      <td>4680</td>\n",
       "      <td>2004-12-31</td>\n",
       "      <td>Jeopardy!</td>\n",
       "      <td>THE COMPANY LINE</td>\n",
       "      <td>$200</td>\n",
       "      <td>In 1963, live on \"The Art Linkletter Show\", th...</td>\n",
       "      <td>McDonald's</td>\n",
       "    </tr>\n",
       "    <tr>\n",
       "      <th>4</th>\n",
       "      <td>4680</td>\n",
       "      <td>2004-12-31</td>\n",
       "      <td>Jeopardy!</td>\n",
       "      <td>EPITAPHS &amp; TRIBUTES</td>\n",
       "      <td>$200</td>\n",
       "      <td>Signer of the Dec. of Indep., framer of the Co...</td>\n",
       "      <td>John Adams</td>\n",
       "    </tr>\n",
       "  </tbody>\n",
       "</table>\n",
       "</div>"
      ],
      "text/plain": [
       "   Show Number    Air Date      Round                         Category  Value  \\\n",
       "0         4680  2004-12-31  Jeopardy!                          HISTORY   $200   \n",
       "1         4680  2004-12-31  Jeopardy!  ESPN's TOP 10 ALL-TIME ATHLETES   $200   \n",
       "2         4680  2004-12-31  Jeopardy!      EVERYBODY TALKS ABOUT IT...   $200   \n",
       "3         4680  2004-12-31  Jeopardy!                 THE COMPANY LINE   $200   \n",
       "4         4680  2004-12-31  Jeopardy!              EPITAPHS & TRIBUTES   $200   \n",
       "\n",
       "                                            Question      Answer  \n",
       "0  For the last 8 years of his life, Galileo was ...  Copernicus  \n",
       "1  No. 2: 1912 Olympian; football star at Carlisl...  Jim Thorpe  \n",
       "2  The city of Yuma in this state has a record av...     Arizona  \n",
       "3  In 1963, live on \"The Art Linkletter Show\", th...  McDonald's  \n",
       "4  Signer of the Dec. of Indep., framer of the Co...  John Adams  "
      ]
     },
     "execution_count": 3,
     "metadata": {},
     "output_type": "execute_result"
    }
   ],
   "source": [
    "df = pd.read_csv('JEOPARDY_CSV.csv')\n",
    "df.head()"
   ]
  },
  {
   "cell_type": "code",
   "execution_count": 4,
   "id": "wooden-clinic",
   "metadata": {
    "ExecuteTime": {
     "end_time": "2021-05-11T05:56:08.207113Z",
     "start_time": "2021-05-11T05:56:08.191876Z"
    }
   },
   "outputs": [
    {
     "data": {
      "text/plain": [
       "array(['Jeopardy!', 'Double Jeopardy!', 'Final Jeopardy!', 'Tiebreaker'],\n",
       "      dtype=object)"
      ]
     },
     "execution_count": 4,
     "metadata": {},
     "output_type": "execute_result"
    }
   ],
   "source": [
    "df[' Round'].unique()"
   ]
  },
  {
   "cell_type": "markdown",
   "id": "limited-pencil",
   "metadata": {},
   "source": [
    "# Clean up data"
   ]
  },
  {
   "cell_type": "code",
   "execution_count": 6,
   "id": "superb-processing",
   "metadata": {
    "ExecuteTime": {
     "end_time": "2021-05-11T05:56:10.316975Z",
     "start_time": "2021-05-11T05:56:10.314130Z"
    }
   },
   "outputs": [],
   "source": [
    "df.columns = ['show_id', 'date', 'round', 'category', 'value', 'question', 'answer']"
   ]
  },
  {
   "cell_type": "code",
   "execution_count": 9,
   "id": "colonial-attendance",
   "metadata": {
    "ExecuteTime": {
     "end_time": "2021-05-11T05:56:34.459190Z",
     "start_time": "2021-05-11T05:56:34.440162Z"
    }
   },
   "outputs": [],
   "source": [
    "df['value'].replace({'None': '$0'}, inplace=True)"
   ]
  },
  {
   "cell_type": "code",
   "execution_count": 10,
   "id": "flying-ordinance",
   "metadata": {
    "ExecuteTime": {
     "end_time": "2021-05-11T05:56:35.566122Z",
     "start_time": "2021-05-11T05:56:35.437823Z"
    }
   },
   "outputs": [],
   "source": [
    "df['value'] = df['value'].apply(lambda x: int(x[1:].replace(',',''))) #remove $ remove comma and convert to int"
   ]
  },
  {
   "cell_type": "code",
   "execution_count": 11,
   "id": "combined-license",
   "metadata": {
    "ExecuteTime": {
     "end_time": "2021-05-11T05:56:55.792101Z",
     "start_time": "2021-05-11T05:56:55.674996Z"
    }
   },
   "outputs": [],
   "source": [
    "df['year'] = df['date'].apply(lambda x: int(x[:4]))"
   ]
  },
  {
   "cell_type": "code",
   "execution_count": 12,
   "id": "classified-processing",
   "metadata": {
    "ExecuteTime": {
     "end_time": "2021-05-11T05:57:08.069770Z",
     "start_time": "2021-05-11T05:57:08.060006Z"
    }
   },
   "outputs": [
    {
     "data": {
      "text/html": [
       "<div>\n",
       "<style scoped>\n",
       "    .dataframe tbody tr th:only-of-type {\n",
       "        vertical-align: middle;\n",
       "    }\n",
       "\n",
       "    .dataframe tbody tr th {\n",
       "        vertical-align: top;\n",
       "    }\n",
       "\n",
       "    .dataframe thead th {\n",
       "        text-align: right;\n",
       "    }\n",
       "</style>\n",
       "<table border=\"1\" class=\"dataframe\">\n",
       "  <thead>\n",
       "    <tr style=\"text-align: right;\">\n",
       "      <th></th>\n",
       "      <th>show_id</th>\n",
       "      <th>date</th>\n",
       "      <th>round</th>\n",
       "      <th>category</th>\n",
       "      <th>value</th>\n",
       "      <th>question</th>\n",
       "      <th>answer</th>\n",
       "      <th>year</th>\n",
       "    </tr>\n",
       "  </thead>\n",
       "  <tbody>\n",
       "    <tr>\n",
       "      <th>0</th>\n",
       "      <td>4680</td>\n",
       "      <td>2004-12-31</td>\n",
       "      <td>Jeopardy!</td>\n",
       "      <td>HISTORY</td>\n",
       "      <td>200</td>\n",
       "      <td>For the last 8 years of his life, Galileo was ...</td>\n",
       "      <td>Copernicus</td>\n",
       "      <td>2004</td>\n",
       "    </tr>\n",
       "    <tr>\n",
       "      <th>1</th>\n",
       "      <td>4680</td>\n",
       "      <td>2004-12-31</td>\n",
       "      <td>Jeopardy!</td>\n",
       "      <td>ESPN's TOP 10 ALL-TIME ATHLETES</td>\n",
       "      <td>200</td>\n",
       "      <td>No. 2: 1912 Olympian; football star at Carlisl...</td>\n",
       "      <td>Jim Thorpe</td>\n",
       "      <td>2004</td>\n",
       "    </tr>\n",
       "    <tr>\n",
       "      <th>2</th>\n",
       "      <td>4680</td>\n",
       "      <td>2004-12-31</td>\n",
       "      <td>Jeopardy!</td>\n",
       "      <td>EVERYBODY TALKS ABOUT IT...</td>\n",
       "      <td>200</td>\n",
       "      <td>The city of Yuma in this state has a record av...</td>\n",
       "      <td>Arizona</td>\n",
       "      <td>2004</td>\n",
       "    </tr>\n",
       "    <tr>\n",
       "      <th>3</th>\n",
       "      <td>4680</td>\n",
       "      <td>2004-12-31</td>\n",
       "      <td>Jeopardy!</td>\n",
       "      <td>THE COMPANY LINE</td>\n",
       "      <td>200</td>\n",
       "      <td>In 1963, live on \"The Art Linkletter Show\", th...</td>\n",
       "      <td>McDonald's</td>\n",
       "      <td>2004</td>\n",
       "    </tr>\n",
       "    <tr>\n",
       "      <th>4</th>\n",
       "      <td>4680</td>\n",
       "      <td>2004-12-31</td>\n",
       "      <td>Jeopardy!</td>\n",
       "      <td>EPITAPHS &amp; TRIBUTES</td>\n",
       "      <td>200</td>\n",
       "      <td>Signer of the Dec. of Indep., framer of the Co...</td>\n",
       "      <td>John Adams</td>\n",
       "      <td>2004</td>\n",
       "    </tr>\n",
       "  </tbody>\n",
       "</table>\n",
       "</div>"
      ],
      "text/plain": [
       "   show_id        date      round                         category  value  \\\n",
       "0     4680  2004-12-31  Jeopardy!                          HISTORY    200   \n",
       "1     4680  2004-12-31  Jeopardy!  ESPN's TOP 10 ALL-TIME ATHLETES    200   \n",
       "2     4680  2004-12-31  Jeopardy!      EVERYBODY TALKS ABOUT IT...    200   \n",
       "3     4680  2004-12-31  Jeopardy!                 THE COMPANY LINE    200   \n",
       "4     4680  2004-12-31  Jeopardy!              EPITAPHS & TRIBUTES    200   \n",
       "\n",
       "                                            question      answer  year  \n",
       "0  For the last 8 years of his life, Galileo was ...  Copernicus  2004  \n",
       "1  No. 2: 1912 Olympian; football star at Carlisl...  Jim Thorpe  2004  \n",
       "2  The city of Yuma in this state has a record av...     Arizona  2004  \n",
       "3  In 1963, live on \"The Art Linkletter Show\", th...  McDonald's  2004  \n",
       "4  Signer of the Dec. of Indep., framer of the Co...  John Adams  2004  "
      ]
     },
     "execution_count": 12,
     "metadata": {},
     "output_type": "execute_result"
    }
   ],
   "source": [
    "df.head()"
   ]
  },
  {
   "cell_type": "code",
   "execution_count": 13,
   "id": "environmental-party",
   "metadata": {
    "ExecuteTime": {
     "end_time": "2021-05-11T05:58:32.414514Z",
     "start_time": "2021-05-11T05:58:32.398603Z"
    }
   },
   "outputs": [
    {
     "data": {
      "text/plain": [
       "array(['Jeopardy!', 'Double Jeopardy!', 'Final Jeopardy!', 'Tiebreaker'],\n",
       "      dtype=object)"
      ]
     },
     "execution_count": 13,
     "metadata": {},
     "output_type": "execute_result"
    }
   ],
   "source": [
    "df['round'].unique()"
   ]
  },
  {
   "cell_type": "markdown",
   "id": "elect-material",
   "metadata": {},
   "source": [
    "# Explore categories"
   ]
  },
  {
   "cell_type": "code",
   "execution_count": 14,
   "id": "natural-morocco",
   "metadata": {
    "ExecuteTime": {
     "end_time": "2021-05-11T06:17:15.400790Z",
     "start_time": "2021-05-11T06:17:15.361779Z"
    }
   },
   "outputs": [
    {
     "data": {
      "text/plain": [
       "BEFORE & AFTER             547\n",
       "SCIENCE                    519\n",
       "LITERATURE                 496\n",
       "AMERICAN HISTORY           418\n",
       "POTPOURRI                  401\n",
       "WORLD HISTORY              377\n",
       "WORD ORIGINS               371\n",
       "COLLEGES & UNIVERSITIES    351\n",
       "HISTORY                    349\n",
       "SPORTS                     342\n",
       "U.S. CITIES                339\n",
       "WORLD GEOGRAPHY            338\n",
       "BODIES OF WATER            327\n",
       "ANIMALS                    324\n",
       "STATE CAPITALS             314\n",
       "BUSINESS & INDUSTRY        311\n",
       "ISLANDS                    301\n",
       "WORLD CAPITALS             300\n",
       "U.S. GEOGRAPHY             299\n",
       "RELIGION                   297\n",
       "SHAKESPEARE                294\n",
       "OPERA                      294\n",
       "LANGUAGES                  284\n",
       "BALLET                     282\n",
       "TELEVISION                 281\n",
       "Name: category, dtype: int64"
      ]
     },
     "execution_count": 14,
     "metadata": {},
     "output_type": "execute_result"
    }
   ],
   "source": [
    "df.category.value_counts()[:25]"
   ]
  },
  {
   "cell_type": "markdown",
   "id": "portable-landscape",
   "metadata": {},
   "source": [
    "# Preprocess text (don't need to run this section)"
   ]
  },
  {
   "cell_type": "code",
   "execution_count": 16,
   "id": "presidential-supply",
   "metadata": {
    "ExecuteTime": {
     "end_time": "2021-05-11T18:13:19.167061Z",
     "start_time": "2021-05-11T18:13:18.559847Z"
    }
   },
   "outputs": [
    {
     "name": "stderr",
     "output_type": "stream",
     "text": [
      "[nltk_data] Downloading package stopwords to /Users/Lucia/nltk_data...\n",
      "[nltk_data]   Package stopwords is already up-to-date!\n"
     ]
    },
    {
     "data": {
      "text/plain": [
       "True"
      ]
     },
     "execution_count": 16,
     "metadata": {},
     "output_type": "execute_result"
    }
   ],
   "source": [
    "nltk.download('stopwords')"
   ]
  },
  {
   "cell_type": "code",
   "execution_count": 17,
   "id": "manufactured-investor",
   "metadata": {
    "ExecuteTime": {
     "end_time": "2021-05-11T18:35:49.655312Z",
     "start_time": "2021-05-11T18:35:49.649176Z"
    }
   },
   "outputs": [
    {
     "data": {
      "text/plain": [
       "(1179, 8)"
      ]
     },
     "execution_count": 17,
     "metadata": {},
     "output_type": "execute_result"
    }
   ],
   "source": [
    "test.shape"
   ]
  },
  {
   "cell_type": "code",
   "execution_count": 34,
   "id": "interior-picture",
   "metadata": {
    "ExecuteTime": {
     "end_time": "2021-05-11T18:35:52.260570Z",
     "start_time": "2021-05-11T18:35:52.256924Z"
    }
   },
   "outputs": [],
   "source": [
    "one_yr = df[df.year==1984]\n",
    "data_text = one_yr[['question']]"
   ]
  },
  {
   "cell_type": "code",
   "execution_count": 35,
   "id": "exempt-carolina",
   "metadata": {
    "ExecuteTime": {
     "end_time": "2021-05-11T18:36:16.974631Z",
     "start_time": "2021-05-11T18:36:16.970373Z"
    },
    "scrolled": true
   },
   "outputs": [
    {
     "data": {
      "text/plain": [
       "['what', 'the', '\"d.c.\"', 'stands', 'for']"
      ]
     },
     "execution_count": 35,
     "metadata": {},
     "output_type": "execute_result"
    }
   ],
   "source": [
    "data_text.iloc[0]['question'].lower().split()"
   ]
  },
  {
   "cell_type": "code",
   "execution_count": 36,
   "id": "surprised-realtor",
   "metadata": {
    "ExecuteTime": {
     "end_time": "2021-05-11T18:37:22.175748Z",
     "start_time": "2021-05-11T18:37:20.641574Z"
    },
    "scrolled": true
   },
   "outputs": [],
   "source": [
    "for idx in range(len(data_text)):\n",
    "    #go through each word in each data_text row, remove stopwords, and set them on the index.\n",
    "    data_text.iloc[idx]['question'] = [word for word in data_text.iloc[idx]['question'].lower().split(' ') if word not in stopwords.words('english')]"
   ]
  },
  {
   "cell_type": "code",
   "execution_count": 37,
   "id": "metallic-johnston",
   "metadata": {
    "ExecuteTime": {
     "end_time": "2021-05-11T18:37:33.301382Z",
     "start_time": "2021-05-11T18:37:33.294398Z"
    }
   },
   "outputs": [
    {
     "data": {
      "text/html": [
       "<div>\n",
       "<style scoped>\n",
       "    .dataframe tbody tr th:only-of-type {\n",
       "        vertical-align: middle;\n",
       "    }\n",
       "\n",
       "    .dataframe tbody tr th {\n",
       "        vertical-align: top;\n",
       "    }\n",
       "\n",
       "    .dataframe thead th {\n",
       "        text-align: right;\n",
       "    }\n",
       "</style>\n",
       "<table border=\"1\" class=\"dataframe\">\n",
       "  <thead>\n",
       "    <tr style=\"text-align: right;\">\n",
       "      <th></th>\n",
       "      <th>question</th>\n",
       "    </tr>\n",
       "  </thead>\n",
       "  <tbody>\n",
       "    <tr>\n",
       "      <th>8544</th>\n",
       "      <td>[\"d.c.\", stands]</td>\n",
       "    </tr>\n",
       "    <tr>\n",
       "      <th>8545</th>\n",
       "      <td>[color, lucky, \"letter, day\"]</td>\n",
       "    </tr>\n",
       "    <tr>\n",
       "      <th>8546</th>\n",
       "      <td>[2, wheels, head, toward, produce,, 1, goes, d...</td>\n",
       "    </tr>\n",
       "    <tr>\n",
       "      <th>8547</th>\n",
       "      <td>[varieties, include, chinese, &amp;, dijon]</td>\n",
       "    </tr>\n",
       "    <tr>\n",
       "      <th>8548</th>\n",
       "      <td>[turned, \"our, gang\", member,, became, top, bo...</td>\n",
       "    </tr>\n",
       "  </tbody>\n",
       "</table>\n",
       "</div>"
      ],
      "text/plain": [
       "                                               question\n",
       "8544                                   [\"d.c.\", stands]\n",
       "8545                      [color, lucky, \"letter, day\"]\n",
       "8546  [2, wheels, head, toward, produce,, 1, goes, d...\n",
       "8547            [varieties, include, chinese, &, dijon]\n",
       "8548  [turned, \"our, gang\", member,, became, top, bo..."
      ]
     },
     "execution_count": 37,
     "metadata": {},
     "output_type": "execute_result"
    }
   ],
   "source": [
    "data_text.head()"
   ]
  },
  {
   "cell_type": "code",
   "execution_count": 46,
   "id": "precise-stanford",
   "metadata": {
    "ExecuteTime": {
     "end_time": "2021-05-11T18:38:32.827520Z",
     "start_time": "2021-05-11T18:38:32.824002Z"
    },
    "scrolled": true
   },
   "outputs": [],
   "source": [
    "train_headlines = [value[0] for value in data_text.iloc[0:].values]\n",
    "id2word = gensim.corpora.Dictionary(train_headlines)\n",
    "corpus = [id2word.doc2bow(text) for text in train_headlines]"
   ]
  },
  {
   "cell_type": "markdown",
   "id": "furnished-captain",
   "metadata": {},
   "source": [
    "## Calculate coherence scores on 3 different years to find best number of topics"
   ]
  },
  {
   "cell_type": "code",
   "execution_count": 78,
   "id": "editorial-dublin",
   "metadata": {},
   "outputs": [],
   "source": [
    "# adapted from https://www.machinelearningplus.com/nlp/topic-modeling-gensim-python/#17howtofindtheoptimalnumberoftopicsforlda\n",
    "def compute_coherence_values(dictionary, corpus, texts, limit, start=2, step=3):\n",
    "    \"\"\"\n",
    "    Compute c_v coherence for various number of topics\n",
    "\n",
    "    Parameters:\n",
    "    ----------\n",
    "    dictionary : Gensim dictionary\n",
    "    corpus : Gensim corpus\n",
    "    texts : List of input texts\n",
    "    limit : Max num of topics\n",
    "\n",
    "    Returns:\n",
    "    -------\n",
    "    model_list : List of LDA topic models\n",
    "    coherence_values : Coherence values corresponding to the LDA model with respective number of topics\n",
    "    \"\"\"\n",
    "    coherence_values = []\n",
    "    model_list = []\n",
    "    for num_topics in range(start, limit, step):\n",
    "        lda_model = ldamodel.LdaModel(corpus=corpus, id2word=id2word, num_topics=num_topics)\n",
    "        coherencemodel = CoherenceModel(model=lda_model, texts=train_headlines, dictionary=dictionary, coherence='c_v')\n",
    "        coherence_values.append(coherencemodel.get_coherence())\n",
    "\n",
    "    return model_list, coherence_values"
   ]
  },
  {
   "cell_type": "code",
   "execution_count": 66,
   "id": "private-provision",
   "metadata": {},
   "outputs": [],
   "source": [
    "model_list_1984, coherence_values_1984 = compute_coherence_values(dictionary=id2word, corpus=corpus, texts=train_headlines, start=2, limit=40, step=6)"
   ]
  },
  {
   "cell_type": "code",
   "execution_count": 68,
   "id": "actual-navigator",
   "metadata": {},
   "outputs": [],
   "source": [
    "one_yr = df[df.year==1994]\n",
    "data_text = one_yr[['question']]\n",
    "for idx in range(len(data_text)):\n",
    "    #go through each word in each data_text row, remove stopwords, and set them on the index.\n",
    "    data_text.iloc[idx]['question'] = [word for word in data_text.iloc[idx]['question'].lower().split(' ') if word not in stopwords.words('english')]\n",
    "train_headlines = [value[0] for value in data_text.iloc[0:].values]\n",
    "id2word = gensim.corpora.Dictionary(train_headlines)\n",
    "corpus = [id2word.doc2bow(text) for text in train_headlines]\n",
    "model_list_1994, coherence_values_1994 = compute_coherence_values(dictionary=id2word, corpus=corpus, texts=train_headlines, start=2, limit=40, step=6)"
   ]
  },
  {
   "cell_type": "code",
   "execution_count": 73,
   "id": "considered-retailer",
   "metadata": {},
   "outputs": [],
   "source": [
    "one_yr = df[df.year==2004]\n",
    "data_text = one_yr[['question']]\n",
    "for idx in range(len(data_text)):\n",
    "    #go through each word in each data_text row, remove stopwords, and set them on the index.\n",
    "    data_text.iloc[idx]['question'] = [word for word in data_text.iloc[idx]['question'].lower().split(' ') if word not in stopwords.words('english')]\n",
    "train_headlines = [value[0] for value in data_text.iloc[0:].values]\n",
    "id2word = gensim.corpora.Dictionary(train_headlines)\n",
    "corpus = [id2word.doc2bow(text) for text in train_headlines]\n",
    "model_list_2004, coherence_values_2004 = compute_coherence_values(dictionary=id2word, corpus=corpus, texts=train_headlines, start=2, limit=40, step=6)"
   ]
  },
  {
   "cell_type": "code",
   "execution_count": 77,
   "id": "finished-enforcement",
   "metadata": {},
   "outputs": [
    {
     "data": {
      "image/png": "[encoded data removed]",
      "text/plain": [
       "<Figure size 432x288 with 1 Axes>"
      ]
     },
     "metadata": {
      "needs_background": "light"
     },
     "output_type": "display_data"
    }
   ],
   "source": [
    "# Show graph\n",
    "limit=40; start=2; step=6;\n",
    "x = range(start, limit, step)\n",
    "plt.plot(x, coherence_values_1984, label='1984')\n",
    "plt.plot(x, coherence_values_1994, label='1994')\n",
    "plt.plot(x, coherence_values_2004, label='2004')\n",
    "\n",
    "plt.xlabel(\"Num Topics\")\n",
    "plt.ylabel(\"Coherence score\")\n",
    "plt.title('Num Topics vs. Coherence Score')\n",
    "plt.legend()\n",
    "plt.show()"
   ]
  },
  {
   "cell_type": "markdown",
   "id": "protecting-democracy",
   "metadata": {},
   "source": [
    "Based on coherence plots for 1984, 1994, and 2004, it looks like 15-20 topics is a reasonable amount for the full dataset. We don't want our topics to be too similar to each other"
   ]
  },
  {
   "cell_type": "markdown",
   "id": "broad-distinction",
   "metadata": {},
   "source": [
    "# Run LDA on full dataset"
   ]
  },
  {
   "cell_type": "markdown",
   "id": "brazilian-default",
   "metadata": {},
   "source": [
    "### Generate and save corpus and fitted model"
   ]
  },
  {
   "cell_type": "code",
   "execution_count": 79,
   "id": "hairy-livestock",
   "metadata": {},
   "outputs": [],
   "source": [
    "data_text = df[['question']]\n",
    "for idx in range(len(data_text)):\n",
    "    #go through each word in each data_text row, remove stopwords, and set them on the index.\n",
    "    data_text.iloc[idx]['question'] = [word for word in data_text.iloc[idx]['question'].lower().split(' ') if word not in stopwords.words('english')]\n",
    "train_headlines = [value[0] for value in data_text.iloc[0:].values]\n",
    "id2word = gensim.corpora.Dictionary(train_headlines)\n",
    "corpus = [id2word.doc2bow(text) for text in train_headlines]"
   ]
  },
  {
   "cell_type": "code",
   "execution_count": 80,
   "id": "established-stations",
   "metadata": {},
   "outputs": [],
   "source": [
    "import pickle\n",
    "filename = 'train_headlines'\n",
    "outfile = open(filename,'wb')\n",
    "pickle.dump(train_headlines,outfile)\n",
    "outfile.close()"
   ]
  },
  {
   "cell_type": "code",
   "execution_count": 85,
   "id": "underlying-simon",
   "metadata": {},
   "outputs": [],
   "source": [
    "filename = 'corpus'\n",
    "outfile = open(filename,'wb')\n",
    "pickle.dump(corpus,outfile)\n",
    "outfile.close()"
   ]
  },
  {
   "cell_type": "code",
   "execution_count": 225,
   "id": "grave-utility",
   "metadata": {
    "ExecuteTime": {
     "end_time": "2021-05-11T18:39:42.261367Z",
     "start_time": "2021-05-11T18:39:41.456019Z"
    }
   },
   "outputs": [],
   "source": [
    "lda = ldamodel.LdaModel(corpus=corpus, id2word=id2word, num_topics=20)"
   ]
  },
  {
   "cell_type": "code",
   "execution_count": 226,
   "id": "centered-snake",
   "metadata": {},
   "outputs": [],
   "source": [
    "lda.save('/Users/Lucia/Documents/USF/MSDS626_Case_Studies/jeopardy-topic-modeling/lda_trained')"
   ]
  },
  {
   "cell_type": "markdown",
   "id": "behavioral-coffee",
   "metadata": {},
   "source": [
    "# Start Running Here!"
   ]
  },
  {
   "cell_type": "markdown",
   "id": "connected-fields",
   "metadata": {},
   "source": [
    "### Load saved files"
   ]
  },
  {
   "cell_type": "code",
   "execution_count": 175,
   "id": "requested-disposition",
   "metadata": {},
   "outputs": [],
   "source": [
    "filename = 'corpus'\n",
    "infile = open(filename,'rb')\n",
    "corpus = pickle.load(infile)\n",
    "infile.close()"
   ]
  },
  {
   "cell_type": "code",
   "execution_count": 179,
   "id": "manufactured-baseline",
   "metadata": {},
   "outputs": [],
   "source": [
    "filename = 'lda_trained.id2word'\n",
    "infile = open(filename,'rb')\n",
    "id2word = pickle.load(infile)\n",
    "infile.close()"
   ]
  },
  {
   "cell_type": "code",
   "execution_count": 171,
   "id": "polished-challenge",
   "metadata": {},
   "outputs": [],
   "source": [
    "filename = 'lda_trained'\n",
    "lda = ldamodel.LdaModel.load(temp_file)"
   ]
  },
  {
   "cell_type": "markdown",
   "id": "fitted-palmer",
   "metadata": {},
   "source": [
    "### Get LDA topics"
   ]
  },
  {
   "cell_type": "code",
   "execution_count": 228,
   "id": "consistent-hardware",
   "metadata": {
    "ExecuteTime": {
     "end_time": "2021-05-11T18:39:57.832465Z",
     "start_time": "2021-05-11T18:39:57.810117Z"
    }
   },
   "outputs": [
    {
     "data": {
      "text/html": [
       "<div>\n",
       "<style scoped>\n",
       "    .dataframe tbody tr th:only-of-type {\n",
       "        vertical-align: middle;\n",
       "    }\n",
       "\n",
       "    .dataframe tbody tr th {\n",
       "        vertical-align: top;\n",
       "    }\n",
       "\n",
       "    .dataframe thead th {\n",
       "        text-align: right;\n",
       "    }\n",
       "</style>\n",
       "<table border=\"1\" class=\"dataframe\">\n",
       "  <thead>\n",
       "    <tr style=\"text-align: right;\">\n",
       "      <th></th>\n",
       "      <th>Topic # 01</th>\n",
       "      <th>Topic # 02</th>\n",
       "      <th>Topic # 03</th>\n",
       "      <th>Topic # 04</th>\n",
       "      <th>Topic # 05</th>\n",
       "      <th>Topic # 06</th>\n",
       "      <th>Topic # 07</th>\n",
       "      <th>Topic # 08</th>\n",
       "      <th>Topic # 09</th>\n",
       "      <th>Topic # 10</th>\n",
       "      <th>Topic # 11</th>\n",
       "      <th>Topic # 12</th>\n",
       "      <th>Topic # 13</th>\n",
       "      <th>Topic # 14</th>\n",
       "      <th>Topic # 15</th>\n",
       "    </tr>\n",
       "  </thead>\n",
       "  <tbody>\n",
       "    <tr>\n",
       "      <th>0</th>\n",
       "      <td>&amp;</td>\n",
       "      <td>&amp;</td>\n",
       "      <td>book</td>\n",
       "      <td>type</td>\n",
       "      <td>man</td>\n",
       "      <td>\"the</td>\n",
       "      <td>known</td>\n",
       "      <td>&amp;</td>\n",
       "      <td>&amp;</td>\n",
       "      <td>part</td>\n",
       "      <td>&amp;</td>\n",
       "      <td>&amp;</td>\n",
       "      <td>new</td>\n",
       "      <td>name</td>\n",
       "      <td>state</td>\n",
       "    </tr>\n",
       "    <tr>\n",
       "      <th>1</th>\n",
       "      <td>term</td>\n",
       "      <td>series</td>\n",
       "      <td>many</td>\n",
       "      <td>&amp;</td>\n",
       "      <td>show</td>\n",
       "      <td>film</td>\n",
       "      <td>also</td>\n",
       "      <td>2</td>\n",
       "      <td>last</td>\n",
       "      <td>time</td>\n",
       "      <td>company</td>\n",
       "      <td>said</td>\n",
       "      <td>city</td>\n",
       "      <td>word</td>\n",
       "      <td>house</td>\n",
       "    </tr>\n",
       "    <tr>\n",
       "      <th>2</th>\n",
       "      <td>group</td>\n",
       "      <td>day</td>\n",
       "      <td>this,</td>\n",
       "      <td>greek</td>\n",
       "      <td>know</td>\n",
       "      <td>title</td>\n",
       "      <td>&amp;</td>\n",
       "      <td>3</td>\n",
       "      <td>name</td>\n",
       "      <td>british</td>\n",
       "      <td>often</td>\n",
       "      <td>hit</td>\n",
       "      <td>&amp;</td>\n",
       "      <td>means</td>\n",
       "      <td>since</td>\n",
       "    </tr>\n",
       "    <tr>\n",
       "      <th>3</th>\n",
       "      <td>largest</td>\n",
       "      <td>include</td>\n",
       "      <td>4</td>\n",
       "      <td>back</td>\n",
       "      <td>good</td>\n",
       "      <td>&amp;</td>\n",
       "      <td>get</td>\n",
       "      <td>john</td>\n",
       "      <td>place</td>\n",
       "      <td>found</td>\n",
       "      <td>family</td>\n",
       "      <td>1</td>\n",
       "      <td>world</td>\n",
       "      <td>whose</td>\n",
       "      <td>white</td>\n",
       "    </tr>\n",
       "    <tr>\n",
       "      <th>4</th>\n",
       "      <td>gave</td>\n",
       "      <td>great</td>\n",
       "      <td>team</td>\n",
       "      <td>number</td>\n",
       "      <td>classic</td>\n",
       "      <td>played</td>\n",
       "      <td>that's</td>\n",
       "      <td>one</td>\n",
       "      <td>find</td>\n",
       "      <td>these,</td>\n",
       "      <td>body</td>\n",
       "      <td>century</td>\n",
       "      <td>first</td>\n",
       "      <td>french</td>\n",
       "      <td>long</td>\n",
       "    </tr>\n",
       "    <tr>\n",
       "      <th>5</th>\n",
       "      <td>went</td>\n",
       "      <td>says</td>\n",
       "      <td>of\"</td>\n",
       "      <td>best</td>\n",
       "      <td>george</td>\n",
       "      <td>novel</td>\n",
       "      <td>called</td>\n",
       "      <td>popular</td>\n",
       "      <td>music</td>\n",
       "      <td>museum</td>\n",
       "      <td>used</td>\n",
       "      <td>big</td>\n",
       "      <td>war</td>\n",
       "      <td>meaning</td>\n",
       "      <td>set</td>\n",
       "    </tr>\n",
       "    <tr>\n",
       "      <th>6</th>\n",
       "      <td>water</td>\n",
       "      <td>created</td>\n",
       "      <td>million</td>\n",
       "      <td>go</td>\n",
       "      <td>early</td>\n",
       "      <td>song</td>\n",
       "      <td>said,</td>\n",
       "      <td>miles</td>\n",
       "      <td>son</td>\n",
       "      <td>one</td>\n",
       "      <td>small</td>\n",
       "      <td>no.</td>\n",
       "      <td>capital</td>\n",
       "      <td>comes</td>\n",
       "      <td>black</td>\n",
       "    </tr>\n",
       "    <tr>\n",
       "      <th>7</th>\n",
       "      <td>world's</td>\n",
       "      <td>5</td>\n",
       "      <td>school</td>\n",
       "      <td>person</td>\n",
       "      <td>nickname</td>\n",
       "      <td>character</td>\n",
       "      <td>short</td>\n",
       "      <td>english</td>\n",
       "      <td>among</td>\n",
       "      <td>\"to</td>\n",
       "      <td>held</td>\n",
       "      <td>wrote</td>\n",
       "      <td>target=\"_blank\"&gt;this&lt;/a&gt;</td>\n",
       "      <td>&amp;</td>\n",
       "      <td>lake</td>\n",
       "    </tr>\n",
       "    <tr>\n",
       "      <th>8</th>\n",
       "      <td>us</td>\n",
       "      <td>german</td>\n",
       "      <td>&amp;</td>\n",
       "      <td>one</td>\n",
       "      <td>end</td>\n",
       "      <td>tv</td>\n",
       "      <td>well</td>\n",
       "      <td>made</td>\n",
       "      <td>high</td>\n",
       "      <td>&amp;</td>\n",
       "      <td>official</td>\n",
       "      <td>de</td>\n",
       "      <td>founded</td>\n",
       "      <td>latin</td>\n",
       "      <td>feet</td>\n",
       "    </tr>\n",
       "    <tr>\n",
       "      <th>9</th>\n",
       "      <td>oscar</td>\n",
       "      <td>form</td>\n",
       "      <td>story</td>\n",
       "      <td>take</td>\n",
       "      <td>god</td>\n",
       "      <td>play</td>\n",
       "      <td>singer</td>\n",
       "      <td>10</td>\n",
       "      <td>originally</td>\n",
       "      <td>call</td>\n",
       "      <td>symbol</td>\n",
       "      <td>country's</td>\n",
       "      <td>around</td>\n",
       "      <td>island</td>\n",
       "      <td>1999</td>\n",
       "    </tr>\n",
       "    <tr>\n",
       "      <th>10</th>\n",
       "      <td>come</td>\n",
       "      <td>william</td>\n",
       "      <td>language</td>\n",
       "      <td>would</td>\n",
       "      <td>still</td>\n",
       "      <td>\"a</td>\n",
       "      <td>letter</td>\n",
       "      <td>poet</td>\n",
       "      <td>real</td>\n",
       "      <td>could</td>\n",
       "      <td>includes</td>\n",
       "      <td>see</td>\n",
       "      <td>woman</td>\n",
       "      <td>west</td>\n",
       "      <td>&amp;</td>\n",
       "    </tr>\n",
       "    <tr>\n",
       "      <th>11</th>\n",
       "      <td>area</td>\n",
       "      <td>rock</td>\n",
       "      <td>animal</td>\n",
       "      <td>times</td>\n",
       "      <td>using</td>\n",
       "      <td>star</td>\n",
       "      <td>one</td>\n",
       "      <td>hall</td>\n",
       "      <td>director</td>\n",
       "      <td>introduced</td>\n",
       "      <td>sport</td>\n",
       "      <td>never</td>\n",
       "      <td>river</td>\n",
       "      <td>put</td>\n",
       "      <td>city</td>\n",
       "    </tr>\n",
       "    <tr>\n",
       "      <th>12</th>\n",
       "      <td>one</td>\n",
       "      <td>robert</td>\n",
       "      <td>year</td>\n",
       "      <td>married</td>\n",
       "      <td>common</td>\n",
       "      <td>movie</td>\n",
       "      <td>need</td>\n",
       "      <td>food</td>\n",
       "      <td>takes</td>\n",
       "      <td>lost</td>\n",
       "      <td>mr.</td>\n",
       "      <td>actress</td>\n",
       "      <td>game</td>\n",
       "      <td>major</td>\n",
       "      <td>much</td>\n",
       "    </tr>\n",
       "    <tr>\n",
       "      <th>13</th>\n",
       "      <td>top</td>\n",
       "      <td>large</td>\n",
       "      <td>plays</td>\n",
       "      <td>called</td>\n",
       "      <td>phrase</td>\n",
       "      <td>first</td>\n",
       "      <td>better</td>\n",
       "      <td>art</td>\n",
       "      <td>dog</td>\n",
       "      <td>helped</td>\n",
       "      <td>event</td>\n",
       "      <td>african</td>\n",
       "      <td>king</td>\n",
       "      <td>led</td>\n",
       "      <td>city's</td>\n",
       "    </tr>\n",
       "    <tr>\n",
       "      <th>14</th>\n",
       "      <td>building</td>\n",
       "      <td>second</td>\n",
       "      <td>record</td>\n",
       "      <td>words</td>\n",
       "      <td>opened</td>\n",
       "      <td>based</td>\n",
       "      <td>8</td>\n",
       "      <td>russian</td>\n",
       "      <td>street</td>\n",
       "      <td>america</td>\n",
       "      <td>east</td>\n",
       "      <td>say</td>\n",
       "      <td>began</td>\n",
       "      <td>north</td>\n",
       "      <td>first</td>\n",
       "    </tr>\n",
       "    <tr>\n",
       "      <th>15</th>\n",
       "      <td>men</td>\n",
       "      <td>playing</td>\n",
       "      <td>comedy</td>\n",
       "      <td>another</td>\n",
       "      <td>every</td>\n",
       "      <td>\"i</td>\n",
       "      <td>law</td>\n",
       "      <td>names</td>\n",
       "      <td>composer</td>\n",
       "      <td>order</td>\n",
       "      <td>half</td>\n",
       "      <td>musical</td>\n",
       "      <td>york</td>\n",
       "      <td>town</td>\n",
       "      <td>served</td>\n",
       "    </tr>\n",
       "    <tr>\n",
       "      <th>16</th>\n",
       "      <td>land</td>\n",
       "      <td>version</td>\n",
       "      <td>queen</td>\n",
       "      <td>\"in</td>\n",
       "      <td>michael</td>\n",
       "      <td>use</td>\n",
       "      <td>canadian</td>\n",
       "      <td>6</td>\n",
       "      <td>girl</td>\n",
       "      <td>like</td>\n",
       "      <td>members</td>\n",
       "      <td>first</td>\n",
       "      <td>died</td>\n",
       "      <td>red</td>\n",
       "      <td>david</td>\n",
       "    </tr>\n",
       "    <tr>\n",
       "      <th>17</th>\n",
       "      <td>works</td>\n",
       "      <td>man's</td>\n",
       "      <td>1996</td>\n",
       "      <td>mountain</td>\n",
       "      <td>&amp;</td>\n",
       "      <td>james</td>\n",
       "      <td>western</td>\n",
       "      <td>nation</td>\n",
       "      <td>target=\"_blank\"&gt;kelly</td>\n",
       "      <td>gets</td>\n",
       "      <td>made</td>\n",
       "      <td>album</td>\n",
       "      <td>head</td>\n",
       "      <td>want</td>\n",
       "      <td>late</td>\n",
       "    </tr>\n",
       "    <tr>\n",
       "      <th>18</th>\n",
       "      <td>like</td>\n",
       "      <td>gold</td>\n",
       "      <td>april</td>\n",
       "      <td>according</td>\n",
       "      <td>union</td>\n",
       "      <td>heard</td>\n",
       "      <td>holiday</td>\n",
       "      <td>goes</td>\n",
       "      <td>one</td>\n",
       "      <td>car</td>\n",
       "      <td>name,</td>\n",
       "      <td>1995</td>\n",
       "      <td>age</td>\n",
       "      <td>also</td>\n",
       "      <td>center</td>\n",
       "    </tr>\n",
       "    <tr>\n",
       "      <th>19</th>\n",
       "      <td>instrument</td>\n",
       "      <td>formed</td>\n",
       "      <td>party</td>\n",
       "      <td>fruit</td>\n",
       "      <td>20</td>\n",
       "      <td>wife</td>\n",
       "      <td>virginia</td>\n",
       "      <td>years</td>\n",
       "      <td>first</td>\n",
       "      <td>texas</td>\n",
       "      <td>nyc</td>\n",
       "      <td>poem</td>\n",
       "      <td>named</td>\n",
       "      <td>killed</td>\n",
       "      <td>prime</td>\n",
       "    </tr>\n",
       "  </tbody>\n",
       "</table>\n",
       "</div>"
      ],
      "text/plain": [
       "    Topic # 01 Topic # 02 Topic # 03 Topic # 04 Topic # 05 Topic # 06  \\\n",
       "0            &          &       book       type        man       \"the   \n",
       "1         term     series       many          &       show       film   \n",
       "2        group        day      this,      greek       know      title   \n",
       "3      largest    include          4       back       good          &   \n",
       "4         gave      great       team     number    classic     played   \n",
       "5         went       says        of\"       best     george      novel   \n",
       "6        water    created    million         go      early       song   \n",
       "7      world's          5     school     person   nickname  character   \n",
       "8           us     german          &        one        end         tv   \n",
       "9        oscar       form      story       take        god       play   \n",
       "10        come    william   language      would      still         \"a   \n",
       "11        area       rock     animal      times      using       star   \n",
       "12         one     robert       year    married     common      movie   \n",
       "13         top      large      plays     called     phrase      first   \n",
       "14    building     second     record      words     opened      based   \n",
       "15         men    playing     comedy    another      every         \"i   \n",
       "16        land    version      queen        \"in    michael        use   \n",
       "17       works      man's       1996   mountain          &      james   \n",
       "18        like       gold      april  according      union      heard   \n",
       "19  instrument     formed      party      fruit         20       wife   \n",
       "\n",
       "   Topic # 07 Topic # 08             Topic # 09  Topic # 10 Topic # 11  \\\n",
       "0       known          &                      &        part          &   \n",
       "1        also          2                   last        time    company   \n",
       "2           &          3                   name     british      often   \n",
       "3         get       john                  place       found     family   \n",
       "4      that's        one                   find      these,       body   \n",
       "5      called    popular                  music      museum       used   \n",
       "6       said,      miles                    son         one      small   \n",
       "7       short    english                  among         \"to       held   \n",
       "8        well       made                   high           &   official   \n",
       "9      singer         10             originally        call     symbol   \n",
       "10     letter       poet                   real       could   includes   \n",
       "11        one       hall               director  introduced      sport   \n",
       "12       need       food                  takes        lost        mr.   \n",
       "13     better        art                    dog      helped      event   \n",
       "14          8    russian                 street     america       east   \n",
       "15        law      names               composer       order       half   \n",
       "16   canadian          6                   girl        like    members   \n",
       "17    western     nation  target=\"_blank\">kelly        gets       made   \n",
       "18    holiday       goes                    one         car      name,   \n",
       "19   virginia      years                  first       texas        nyc   \n",
       "\n",
       "   Topic # 12                Topic # 13 Topic # 14 Topic # 15  \n",
       "0           &                       new       name      state  \n",
       "1        said                      city       word      house  \n",
       "2         hit                         &      means      since  \n",
       "3           1                     world      whose      white  \n",
       "4     century                     first     french       long  \n",
       "5         big                       war    meaning        set  \n",
       "6         no.                   capital      comes      black  \n",
       "7       wrote  target=\"_blank\">this</a>          &       lake  \n",
       "8          de                   founded      latin       feet  \n",
       "9   country's                    around     island       1999  \n",
       "10        see                     woman       west          &  \n",
       "11      never                     river        put       city  \n",
       "12    actress                      game      major       much  \n",
       "13    african                      king        led     city's  \n",
       "14        say                     began      north      first  \n",
       "15    musical                      york       town     served  \n",
       "16      first                      died        red      david  \n",
       "17      album                      head       want       late  \n",
       "18       1995                       age       also     center  \n",
       "19       poem                     named     killed      prime  "
      ]
     },
     "execution_count": 228,
     "metadata": {},
     "output_type": "execute_result"
    }
   ],
   "source": [
    "def get_lda_topics(model, num_topics):\n",
    "    word_dict = {};\n",
    "    for i in range(num_topics):\n",
    "        words = model.show_topic(i, topn = 20);\n",
    "        word_dict['Topic # ' + '{:02d}'.format(i+1)] = [i[0] for i in words];\n",
    "    return pd.DataFrame(word_dict);\n",
    "\n",
    "get_lda_topics(lda, 15)"
   ]
  },
  {
   "cell_type": "markdown",
   "id": "increased-baker",
   "metadata": {},
   "source": [
    "### Topics for document 0 "
   ]
  },
  {
   "cell_type": "code",
   "execution_count": 229,
   "id": "worse-heaven",
   "metadata": {},
   "outputs": [
    {
     "data": {
      "text/plain": [
       "[(0, 0.30512396),\n",
       " (1, 0.10501583),\n",
       " (2, 0.18914574),\n",
       " (6, 0.105010726),\n",
       " (8, 0.11942027),\n",
       " (14, 0.1062618)]"
      ]
     },
     "execution_count": 229,
     "metadata": {},
     "output_type": "execute_result"
    }
   ],
   "source": [
    "lda.get_document_topics(corpus[0])"
   ]
  },
  {
   "cell_type": "markdown",
   "id": "blessed-columbia",
   "metadata": {},
   "source": [
    "This shows that there is a 40% probability that this document is in topic 3, a 10% probability that it is in topic 4, etc."
   ]
  },
  {
   "cell_type": "markdown",
   "id": "middle-conflict",
   "metadata": {},
   "source": [
    "### Get best topic for each doc"
   ]
  },
  {
   "cell_type": "code",
   "execution_count": 230,
   "id": "civilian-active",
   "metadata": {},
   "outputs": [],
   "source": [
    "most_likely_topic=[]\n",
    "for doc in corpus:\n",
    "    likelihoods = dict(lda.get_document_topics(doc))\n",
    "    most_likely_topic.append(max(likelihoods,key=likelihoods.get))"
   ]
  },
  {
   "cell_type": "code",
   "execution_count": 231,
   "id": "expensive-bolivia",
   "metadata": {},
   "outputs": [],
   "source": [
    "df['topic'] = most_likely_topic"
   ]
  },
  {
   "cell_type": "code",
   "execution_count": 232,
   "id": "hydraulic-member",
   "metadata": {},
   "outputs": [
    {
     "data": {
      "text/html": [
       "<div>\n",
       "<style scoped>\n",
       "    .dataframe tbody tr th:only-of-type {\n",
       "        vertical-align: middle;\n",
       "    }\n",
       "\n",
       "    .dataframe tbody tr th {\n",
       "        vertical-align: top;\n",
       "    }\n",
       "\n",
       "    .dataframe thead th {\n",
       "        text-align: right;\n",
       "    }\n",
       "</style>\n",
       "<table border=\"1\" class=\"dataframe\">\n",
       "  <thead>\n",
       "    <tr style=\"text-align: right;\">\n",
       "      <th></th>\n",
       "      <th>show_id</th>\n",
       "      <th>date</th>\n",
       "      <th>round</th>\n",
       "      <th>category</th>\n",
       "      <th>value</th>\n",
       "      <th>question</th>\n",
       "      <th>answer</th>\n",
       "      <th>year</th>\n",
       "      <th>topic</th>\n",
       "    </tr>\n",
       "  </thead>\n",
       "  <tbody>\n",
       "    <tr>\n",
       "      <th>0</th>\n",
       "      <td>4680</td>\n",
       "      <td>2004-12-31</td>\n",
       "      <td>Jeopardy!</td>\n",
       "      <td>HISTORY</td>\n",
       "      <td>200</td>\n",
       "      <td>For the last 8 years of his life, Galileo was ...</td>\n",
       "      <td>Copernicus</td>\n",
       "      <td>2004</td>\n",
       "      <td>0</td>\n",
       "    </tr>\n",
       "    <tr>\n",
       "      <th>1</th>\n",
       "      <td>4680</td>\n",
       "      <td>2004-12-31</td>\n",
       "      <td>Jeopardy!</td>\n",
       "      <td>ESPN's TOP 10 ALL-TIME ATHLETES</td>\n",
       "      <td>200</td>\n",
       "      <td>No. 2: 1912 Olympian; football star at Carlisl...</td>\n",
       "      <td>Jim Thorpe</td>\n",
       "      <td>2004</td>\n",
       "      <td>8</td>\n",
       "    </tr>\n",
       "    <tr>\n",
       "      <th>2</th>\n",
       "      <td>4680</td>\n",
       "      <td>2004-12-31</td>\n",
       "      <td>Jeopardy!</td>\n",
       "      <td>EVERYBODY TALKS ABOUT IT...</td>\n",
       "      <td>200</td>\n",
       "      <td>The city of Yuma in this state has a record av...</td>\n",
       "      <td>Arizona</td>\n",
       "      <td>2004</td>\n",
       "      <td>14</td>\n",
       "    </tr>\n",
       "    <tr>\n",
       "      <th>3</th>\n",
       "      <td>4680</td>\n",
       "      <td>2004-12-31</td>\n",
       "      <td>Jeopardy!</td>\n",
       "      <td>THE COMPANY LINE</td>\n",
       "      <td>200</td>\n",
       "      <td>In 1963, live on \"The Art Linkletter Show\", th...</td>\n",
       "      <td>McDonald's</td>\n",
       "      <td>2004</td>\n",
       "      <td>10</td>\n",
       "    </tr>\n",
       "    <tr>\n",
       "      <th>4</th>\n",
       "      <td>4680</td>\n",
       "      <td>2004-12-31</td>\n",
       "      <td>Jeopardy!</td>\n",
       "      <td>EPITAPHS &amp; TRIBUTES</td>\n",
       "      <td>200</td>\n",
       "      <td>Signer of the Dec. of Indep., framer of the Co...</td>\n",
       "      <td>John Adams</td>\n",
       "      <td>2004</td>\n",
       "      <td>15</td>\n",
       "    </tr>\n",
       "    <tr>\n",
       "      <th>...</th>\n",
       "      <td>...</td>\n",
       "      <td>...</td>\n",
       "      <td>...</td>\n",
       "      <td>...</td>\n",
       "      <td>...</td>\n",
       "      <td>...</td>\n",
       "      <td>...</td>\n",
       "      <td>...</td>\n",
       "      <td>...</td>\n",
       "    </tr>\n",
       "    <tr>\n",
       "      <th>216925</th>\n",
       "      <td>4999</td>\n",
       "      <td>2006-05-11</td>\n",
       "      <td>Double Jeopardy!</td>\n",
       "      <td>RIDDLE ME THIS</td>\n",
       "      <td>2000</td>\n",
       "      <td>This Puccini opera turns on the solution to 3 ...</td>\n",
       "      <td>Turandot</td>\n",
       "      <td>2006</td>\n",
       "      <td>7</td>\n",
       "    </tr>\n",
       "    <tr>\n",
       "      <th>216926</th>\n",
       "      <td>4999</td>\n",
       "      <td>2006-05-11</td>\n",
       "      <td>Double Jeopardy!</td>\n",
       "      <td>\"T\" BIRDS</td>\n",
       "      <td>2000</td>\n",
       "      <td>In North America this term is properly applied...</td>\n",
       "      <td>a titmouse</td>\n",
       "      <td>2006</td>\n",
       "      <td>16</td>\n",
       "    </tr>\n",
       "    <tr>\n",
       "      <th>216927</th>\n",
       "      <td>4999</td>\n",
       "      <td>2006-05-11</td>\n",
       "      <td>Double Jeopardy!</td>\n",
       "      <td>AUTHORS IN THEIR YOUTH</td>\n",
       "      <td>2000</td>\n",
       "      <td>In Penny Lane, where this \"Hellraiser\" grew up...</td>\n",
       "      <td>Clive Barker</td>\n",
       "      <td>2006</td>\n",
       "      <td>3</td>\n",
       "    </tr>\n",
       "    <tr>\n",
       "      <th>216928</th>\n",
       "      <td>4999</td>\n",
       "      <td>2006-05-11</td>\n",
       "      <td>Double Jeopardy!</td>\n",
       "      <td>QUOTATIONS</td>\n",
       "      <td>2000</td>\n",
       "      <td>From Ft. Sill, Okla. he made the plea, Arizona...</td>\n",
       "      <td>Geronimo</td>\n",
       "      <td>2006</td>\n",
       "      <td>11</td>\n",
       "    </tr>\n",
       "    <tr>\n",
       "      <th>216929</th>\n",
       "      <td>4999</td>\n",
       "      <td>2006-05-11</td>\n",
       "      <td>Final Jeopardy!</td>\n",
       "      <td>HISTORIC NAMES</td>\n",
       "      <td>0</td>\n",
       "      <td>A silent movie title includes the last name of...</td>\n",
       "      <td>Grigori Alexandrovich Potemkin</td>\n",
       "      <td>2006</td>\n",
       "      <td>8</td>\n",
       "    </tr>\n",
       "  </tbody>\n",
       "</table>\n",
       "<p>216930 rows × 9 columns</p>\n",
       "</div>"
      ],
      "text/plain": [
       "        show_id        date             round  \\\n",
       "0          4680  2004-12-31         Jeopardy!   \n",
       "1          4680  2004-12-31         Jeopardy!   \n",
       "2          4680  2004-12-31         Jeopardy!   \n",
       "3          4680  2004-12-31         Jeopardy!   \n",
       "4          4680  2004-12-31         Jeopardy!   \n",
       "...         ...         ...               ...   \n",
       "216925     4999  2006-05-11  Double Jeopardy!   \n",
       "216926     4999  2006-05-11  Double Jeopardy!   \n",
       "216927     4999  2006-05-11  Double Jeopardy!   \n",
       "216928     4999  2006-05-11  Double Jeopardy!   \n",
       "216929     4999  2006-05-11   Final Jeopardy!   \n",
       "\n",
       "                               category  value  \\\n",
       "0                               HISTORY    200   \n",
       "1       ESPN's TOP 10 ALL-TIME ATHLETES    200   \n",
       "2           EVERYBODY TALKS ABOUT IT...    200   \n",
       "3                      THE COMPANY LINE    200   \n",
       "4                   EPITAPHS & TRIBUTES    200   \n",
       "...                                 ...    ...   \n",
       "216925                   RIDDLE ME THIS   2000   \n",
       "216926                        \"T\" BIRDS   2000   \n",
       "216927           AUTHORS IN THEIR YOUTH   2000   \n",
       "216928                       QUOTATIONS   2000   \n",
       "216929                   HISTORIC NAMES      0   \n",
       "\n",
       "                                                 question  \\\n",
       "0       For the last 8 years of his life, Galileo was ...   \n",
       "1       No. 2: 1912 Olympian; football star at Carlisl...   \n",
       "2       The city of Yuma in this state has a record av...   \n",
       "3       In 1963, live on \"The Art Linkletter Show\", th...   \n",
       "4       Signer of the Dec. of Indep., framer of the Co...   \n",
       "...                                                   ...   \n",
       "216925  This Puccini opera turns on the solution to 3 ...   \n",
       "216926  In North America this term is properly applied...   \n",
       "216927  In Penny Lane, where this \"Hellraiser\" grew up...   \n",
       "216928  From Ft. Sill, Okla. he made the plea, Arizona...   \n",
       "216929  A silent movie title includes the last name of...   \n",
       "\n",
       "                                answer  year  topic  \n",
       "0                           Copernicus  2004      0  \n",
       "1                           Jim Thorpe  2004      8  \n",
       "2                              Arizona  2004     14  \n",
       "3                           McDonald's  2004     10  \n",
       "4                           John Adams  2004     15  \n",
       "...                                ...   ...    ...  \n",
       "216925                        Turandot  2006      7  \n",
       "216926                      a titmouse  2006     16  \n",
       "216927                    Clive Barker  2006      3  \n",
       "216928                        Geronimo  2006     11  \n",
       "216929  Grigori Alexandrovich Potemkin  2006      8  \n",
       "\n",
       "[216930 rows x 9 columns]"
      ]
     },
     "execution_count": 232,
     "metadata": {},
     "output_type": "execute_result"
    }
   ],
   "source": [
    "df"
   ]
  },
  {
   "cell_type": "code",
   "execution_count": null,
   "id": "radical-gathering",
   "metadata": {},
   "outputs": [],
   "source": []
  }
 ],
 "metadata": {
  "kernelspec": {
   "display_name": "Python 3",
   "language": "python",
   "name": "python3"
  },
  "language_info": {
   "codemirror_mode": {
    "name": "ipython",
    "version": 3
   },
   "file_extension": ".py",
   "mimetype": "text/x-python",
   "name": "python",
   "nbconvert_exporter": "python",
   "pygments_lexer": "ipython3",
   "version": "3.8.1"
  }
 },
 "nbformat": 4,
 "nbformat_minor": 5
}
