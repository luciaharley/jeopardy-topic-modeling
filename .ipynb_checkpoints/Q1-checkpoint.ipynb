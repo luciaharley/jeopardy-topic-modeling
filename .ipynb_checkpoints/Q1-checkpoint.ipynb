{
 "cells": [
  {
   "cell_type": "code",
   "execution_count": 110,
   "metadata": {
    "ExecuteTime": {
     "end_time": "2021-05-11T01:47:41.936884Z",
     "start_time": "2021-05-11T01:47:41.266707Z"
    }
   },
   "outputs": [],
   "source": [
    "import pandas as pd\n",
    "import numpy as np\n",
    "import scipy as sp\n",
    "import sklearn\n",
    "import matplotlib.pyplot as plt\n",
    "import sys\n",
    "from nltk.corpus import stopwords\n",
    "import nltk\n",
    "from gensim.models import ldamodel, CoherenceModel\n",
    "import gensim.corpora\n",
    "from sklearn.feature_extraction.text import CountVectorizer, TfidfTransformer\n",
    "from sklearn.decomposition import NMF\n",
    "from sklearn.preprocessing import normalize\n",
    "import re\n",
    "import string\n",
    "import spacy\n",
    "import pickle"
   ]
  },
  {
   "cell_type": "code",
   "execution_count": 111,
   "metadata": {
    "ExecuteTime": {
     "end_time": "2021-05-11T05:56:06.553820Z",
     "start_time": "2021-05-11T05:56:05.959239Z"
    }
   },
   "outputs": [
    {
     "data": {
      "text/html": [
       "<div>\n",
       "<style scoped>\n",
       "    .dataframe tbody tr th:only-of-type {\n",
       "        vertical-align: middle;\n",
       "    }\n",
       "\n",
       "    .dataframe tbody tr th {\n",
       "        vertical-align: top;\n",
       "    }\n",
       "\n",
       "    .dataframe thead th {\n",
       "        text-align: right;\n",
       "    }\n",
       "</style>\n",
       "<table border=\"1\" class=\"dataframe\">\n",
       "  <thead>\n",
       "    <tr style=\"text-align: right;\">\n",
       "      <th></th>\n",
       "      <th>Show Number</th>\n",
       "      <th>Air Date</th>\n",
       "      <th>Round</th>\n",
       "      <th>Category</th>\n",
       "      <th>Value</th>\n",
       "      <th>Question</th>\n",
       "      <th>Answer</th>\n",
       "    </tr>\n",
       "  </thead>\n",
       "  <tbody>\n",
       "    <tr>\n",
       "      <th>0</th>\n",
       "      <td>4680</td>\n",
       "      <td>2004-12-31</td>\n",
       "      <td>Jeopardy!</td>\n",
       "      <td>HISTORY</td>\n",
       "      <td>$200</td>\n",
       "      <td>For the last 8 years of his life, Galileo was ...</td>\n",
       "      <td>Copernicus</td>\n",
       "    </tr>\n",
       "    <tr>\n",
       "      <th>1</th>\n",
       "      <td>4680</td>\n",
       "      <td>2004-12-31</td>\n",
       "      <td>Jeopardy!</td>\n",
       "      <td>ESPN's TOP 10 ALL-TIME ATHLETES</td>\n",
       "      <td>$200</td>\n",
       "      <td>No. 2: 1912 Olympian; football star at Carlisl...</td>\n",
       "      <td>Jim Thorpe</td>\n",
       "    </tr>\n",
       "    <tr>\n",
       "      <th>2</th>\n",
       "      <td>4680</td>\n",
       "      <td>2004-12-31</td>\n",
       "      <td>Jeopardy!</td>\n",
       "      <td>EVERYBODY TALKS ABOUT IT...</td>\n",
       "      <td>$200</td>\n",
       "      <td>The city of Yuma in this state has a record av...</td>\n",
       "      <td>Arizona</td>\n",
       "    </tr>\n",
       "    <tr>\n",
       "      <th>3</th>\n",
       "      <td>4680</td>\n",
       "      <td>2004-12-31</td>\n",
       "      <td>Jeopardy!</td>\n",
       "      <td>THE COMPANY LINE</td>\n",
       "      <td>$200</td>\n",
       "      <td>In 1963, live on \"The Art Linkletter Show\", th...</td>\n",
       "      <td>McDonald's</td>\n",
       "    </tr>\n",
       "    <tr>\n",
       "      <th>4</th>\n",
       "      <td>4680</td>\n",
       "      <td>2004-12-31</td>\n",
       "      <td>Jeopardy!</td>\n",
       "      <td>EPITAPHS &amp; TRIBUTES</td>\n",
       "      <td>$200</td>\n",
       "      <td>Signer of the Dec. of Indep., framer of the Co...</td>\n",
       "      <td>John Adams</td>\n",
       "    </tr>\n",
       "  </tbody>\n",
       "</table>\n",
       "</div>"
      ],
      "text/plain": [
       "   Show Number    Air Date      Round                         Category  Value  \\\n",
       "0         4680  2004-12-31  Jeopardy!                          HISTORY   $200   \n",
       "1         4680  2004-12-31  Jeopardy!  ESPN's TOP 10 ALL-TIME ATHLETES   $200   \n",
       "2         4680  2004-12-31  Jeopardy!      EVERYBODY TALKS ABOUT IT...   $200   \n",
       "3         4680  2004-12-31  Jeopardy!                 THE COMPANY LINE   $200   \n",
       "4         4680  2004-12-31  Jeopardy!              EPITAPHS & TRIBUTES   $200   \n",
       "\n",
       "                                            Question      Answer  \n",
       "0  For the last 8 years of his life, Galileo was ...  Copernicus  \n",
       "1  No. 2: 1912 Olympian; football star at Carlisl...  Jim Thorpe  \n",
       "2  The city of Yuma in this state has a record av...     Arizona  \n",
       "3  In 1963, live on \"The Art Linkletter Show\", th...  McDonald's  \n",
       "4  Signer of the Dec. of Indep., framer of the Co...  John Adams  "
      ]
     },
     "execution_count": 111,
     "metadata": {},
     "output_type": "execute_result"
    }
   ],
   "source": [
    "df = pd.read_csv('JEOPARDY_CSV.csv')\n",
    "df.head()"
   ]
  },
  {
   "cell_type": "code",
   "execution_count": 112,
   "metadata": {
    "ExecuteTime": {
     "end_time": "2021-05-11T05:56:08.207113Z",
     "start_time": "2021-05-11T05:56:08.191876Z"
    }
   },
   "outputs": [
    {
     "data": {
      "text/plain": [
       "array(['Jeopardy!', 'Double Jeopardy!', 'Final Jeopardy!', 'Tiebreaker'],\n",
       "      dtype=object)"
      ]
     },
     "execution_count": 112,
     "metadata": {},
     "output_type": "execute_result"
    }
   ],
   "source": [
    "df[' Round'].unique()"
   ]
  },
  {
   "cell_type": "markdown",
   "metadata": {},
   "source": [
    "# Clean up data"
   ]
  },
  {
   "cell_type": "code",
   "execution_count": 113,
   "metadata": {
    "ExecuteTime": {
     "end_time": "2021-05-11T05:56:10.316975Z",
     "start_time": "2021-05-11T05:56:10.314130Z"
    }
   },
   "outputs": [],
   "source": [
    "df.columns = ['show_id', 'date', 'round', 'category', 'value', 'question', 'answer']"
   ]
  },
  {
   "cell_type": "code",
   "execution_count": 114,
   "metadata": {
    "ExecuteTime": {
     "end_time": "2021-05-11T05:56:34.459190Z",
     "start_time": "2021-05-11T05:56:34.440162Z"
    }
   },
   "outputs": [],
   "source": [
    "df['value'].replace({'None': '$0'}, inplace=True)"
   ]
  },
  {
   "cell_type": "code",
   "execution_count": 115,
   "metadata": {
    "ExecuteTime": {
     "end_time": "2021-05-11T05:56:35.566122Z",
     "start_time": "2021-05-11T05:56:35.437823Z"
    }
   },
   "outputs": [],
   "source": [
    "df['value'] = df['value'].apply(lambda x: int(x[1:].replace(',',''))) #remove $ remove comma and convert to int"
   ]
  },
  {
   "cell_type": "code",
   "execution_count": 116,
   "metadata": {
    "ExecuteTime": {
     "end_time": "2021-05-11T05:56:55.792101Z",
     "start_time": "2021-05-11T05:56:55.674996Z"
    }
   },
   "outputs": [],
   "source": [
    "df['year'] = df['date'].apply(lambda x: int(x[:4]))"
   ]
  },
  {
   "cell_type": "code",
   "execution_count": 117,
   "metadata": {
    "ExecuteTime": {
     "end_time": "2021-05-11T05:57:08.069770Z",
     "start_time": "2021-05-11T05:57:08.060006Z"
    }
   },
   "outputs": [
    {
     "data": {
      "text/html": [
       "<div>\n",
       "<style scoped>\n",
       "    .dataframe tbody tr th:only-of-type {\n",
       "        vertical-align: middle;\n",
       "    }\n",
       "\n",
       "    .dataframe tbody tr th {\n",
       "        vertical-align: top;\n",
       "    }\n",
       "\n",
       "    .dataframe thead th {\n",
       "        text-align: right;\n",
       "    }\n",
       "</style>\n",
       "<table border=\"1\" class=\"dataframe\">\n",
       "  <thead>\n",
       "    <tr style=\"text-align: right;\">\n",
       "      <th></th>\n",
       "      <th>show_id</th>\n",
       "      <th>date</th>\n",
       "      <th>round</th>\n",
       "      <th>category</th>\n",
       "      <th>value</th>\n",
       "      <th>question</th>\n",
       "      <th>answer</th>\n",
       "      <th>year</th>\n",
       "    </tr>\n",
       "  </thead>\n",
       "  <tbody>\n",
       "    <tr>\n",
       "      <th>0</th>\n",
       "      <td>4680</td>\n",
       "      <td>2004-12-31</td>\n",
       "      <td>Jeopardy!</td>\n",
       "      <td>HISTORY</td>\n",
       "      <td>200</td>\n",
       "      <td>For the last 8 years of his life, Galileo was ...</td>\n",
       "      <td>Copernicus</td>\n",
       "      <td>2004</td>\n",
       "    </tr>\n",
       "    <tr>\n",
       "      <th>1</th>\n",
       "      <td>4680</td>\n",
       "      <td>2004-12-31</td>\n",
       "      <td>Jeopardy!</td>\n",
       "      <td>ESPN's TOP 10 ALL-TIME ATHLETES</td>\n",
       "      <td>200</td>\n",
       "      <td>No. 2: 1912 Olympian; football star at Carlisl...</td>\n",
       "      <td>Jim Thorpe</td>\n",
       "      <td>2004</td>\n",
       "    </tr>\n",
       "    <tr>\n",
       "      <th>2</th>\n",
       "      <td>4680</td>\n",
       "      <td>2004-12-31</td>\n",
       "      <td>Jeopardy!</td>\n",
       "      <td>EVERYBODY TALKS ABOUT IT...</td>\n",
       "      <td>200</td>\n",
       "      <td>The city of Yuma in this state has a record av...</td>\n",
       "      <td>Arizona</td>\n",
       "      <td>2004</td>\n",
       "    </tr>\n",
       "    <tr>\n",
       "      <th>3</th>\n",
       "      <td>4680</td>\n",
       "      <td>2004-12-31</td>\n",
       "      <td>Jeopardy!</td>\n",
       "      <td>THE COMPANY LINE</td>\n",
       "      <td>200</td>\n",
       "      <td>In 1963, live on \"The Art Linkletter Show\", th...</td>\n",
       "      <td>McDonald's</td>\n",
       "      <td>2004</td>\n",
       "    </tr>\n",
       "    <tr>\n",
       "      <th>4</th>\n",
       "      <td>4680</td>\n",
       "      <td>2004-12-31</td>\n",
       "      <td>Jeopardy!</td>\n",
       "      <td>EPITAPHS &amp; TRIBUTES</td>\n",
       "      <td>200</td>\n",
       "      <td>Signer of the Dec. of Indep., framer of the Co...</td>\n",
       "      <td>John Adams</td>\n",
       "      <td>2004</td>\n",
       "    </tr>\n",
       "  </tbody>\n",
       "</table>\n",
       "</div>"
      ],
      "text/plain": [
       "   show_id        date      round                         category  value  \\\n",
       "0     4680  2004-12-31  Jeopardy!                          HISTORY    200   \n",
       "1     4680  2004-12-31  Jeopardy!  ESPN's TOP 10 ALL-TIME ATHLETES    200   \n",
       "2     4680  2004-12-31  Jeopardy!      EVERYBODY TALKS ABOUT IT...    200   \n",
       "3     4680  2004-12-31  Jeopardy!                 THE COMPANY LINE    200   \n",
       "4     4680  2004-12-31  Jeopardy!              EPITAPHS & TRIBUTES    200   \n",
       "\n",
       "                                            question      answer  year  \n",
       "0  For the last 8 years of his life, Galileo was ...  Copernicus  2004  \n",
       "1  No. 2: 1912 Olympian; football star at Carlisl...  Jim Thorpe  2004  \n",
       "2  The city of Yuma in this state has a record av...     Arizona  2004  \n",
       "3  In 1963, live on \"The Art Linkletter Show\", th...  McDonald's  2004  \n",
       "4  Signer of the Dec. of Indep., framer of the Co...  John Adams  2004  "
      ]
     },
     "execution_count": 117,
     "metadata": {},
     "output_type": "execute_result"
    }
   ],
   "source": [
    "df.head()"
   ]
  },
  {
   "cell_type": "code",
   "execution_count": 118,
   "metadata": {
    "ExecuteTime": {
     "end_time": "2021-05-11T05:58:32.414514Z",
     "start_time": "2021-05-11T05:58:32.398603Z"
    }
   },
   "outputs": [
    {
     "data": {
      "text/plain": [
       "array(['Jeopardy!', 'Double Jeopardy!', 'Final Jeopardy!', 'Tiebreaker'],\n",
       "      dtype=object)"
      ]
     },
     "execution_count": 118,
     "metadata": {},
     "output_type": "execute_result"
    }
   ],
   "source": [
    "df['round'].unique()"
   ]
  },
  {
   "cell_type": "markdown",
   "metadata": {},
   "source": [
    "# Explore categories"
   ]
  },
  {
   "cell_type": "code",
   "execution_count": 11,
   "metadata": {
    "ExecuteTime": {
     "end_time": "2021-05-11T06:17:15.400790Z",
     "start_time": "2021-05-11T06:17:15.361779Z"
    }
   },
   "outputs": [
    {
     "data": {
      "text/plain": [
       "BEFORE & AFTER             547\n",
       "SCIENCE                    519\n",
       "LITERATURE                 496\n",
       "AMERICAN HISTORY           418\n",
       "POTPOURRI                  401\n",
       "WORLD HISTORY              377\n",
       "WORD ORIGINS               371\n",
       "COLLEGES & UNIVERSITIES    351\n",
       "HISTORY                    349\n",
       "SPORTS                     342\n",
       "U.S. CITIES                339\n",
       "WORLD GEOGRAPHY            338\n",
       "BODIES OF WATER            327\n",
       "ANIMALS                    324\n",
       "STATE CAPITALS             314\n",
       "BUSINESS & INDUSTRY        311\n",
       "ISLANDS                    301\n",
       "WORLD CAPITALS             300\n",
       "U.S. GEOGRAPHY             299\n",
       "RELIGION                   297\n",
       "SHAKESPEARE                294\n",
       "OPERA                      294\n",
       "LANGUAGES                  284\n",
       "BALLET                     282\n",
       "TELEVISION                 281\n",
       "Name: category, dtype: int64"
      ]
     },
     "execution_count": 11,
     "metadata": {},
     "output_type": "execute_result"
    }
   ],
   "source": [
    "df.category.value_counts()[:25]"
   ]
  },
  {
   "cell_type": "markdown",
   "metadata": {},
   "source": [
    "# Preprocess text (don't need to run this section)"
   ]
  },
  {
   "cell_type": "code",
   "execution_count": 22,
   "metadata": {},
   "outputs": [],
   "source": [
    "# adapted from https://towardsdatascience.com/topic-modeling-quora-questions-with-lda-nmf-aff8dce5e1dd\n",
    "def clean_text(text):\n",
    "    '''Make text lowercase, remove text in square brackets, remove punctuation and remove words containing numbers.'''\n",
    "    text = text.lower()\n",
    "    text = re.sub(r'\\[.*?\\]', '', text)\n",
    "    text = re.sub(r'[%s]' % re.escape(string.punctuation), '', text)\n",
    "    text = re.sub(r'\\w*\\d\\w*', '', text)\n",
    "    return text\n",
    "\n",
    "# Tokenize\n",
    "def sent_to_words(sentences):\n",
    "    for sentence in sentences:\n",
    "        yield(gensim.utils.simple_preprocess(str(sentence), deacc=True))  # deacc=True removes punctuations\n",
    "\n",
    "# Stemming\n",
    "def lemmatization(texts, allowed_postags=['NOUN', 'ADJ', 'VERB', 'ADV']): #'NOUN', 'ADJ', 'VERB', 'ADV'\n",
    "    nlp = spacy.load('en_core_web_sm', disable=['parser', 'ner'])\n",
    "    all_stopwords = nlp.Defaults.stop_words\n",
    "    texts_out = []\n",
    "    for sent in texts:\n",
    "        doc = nlp(\" \".join(sent)) \n",
    "        texts_out.append([token.lemma_ if token.lemma_ not in ['-PRON-'] else '' for token in doc if token.pos_ in allowed_postags and token not in all_stopwords])\n",
    "    return texts_out"
   ]
  },
  {
   "cell_type": "code",
   "execution_count": null,
   "metadata": {},
   "outputs": [],
   "source": [
    "def preprocessing(df):\n",
    "    # takes df and completes all preprocessing steps (cleaning text, tokenization, lemmatization).\n",
    "    # returns id2word and corpus\n",
    "    d = pd.DataFrame(df.question.apply(lambda x: clean_text(x)))\n",
    "    dw = list(sent_to_words(list(d.question)))\n",
    "    lemm = lemmatization(dw, allowed_postags=['NOUN', 'VERB']) #select noun and verb\n",
    "    id2word = gensim.corpora.Dictionary(lemm)\n",
    "    corpus = [id2word.doc2bow(text) for text in lemm]\n",
    "    return id2word, corpus"
   ]
  },
  {
   "cell_type": "code",
   "execution_count": null,
   "metadata": {},
   "outputs": [],
   "source": [
    "df_question = pd.DataFrame(df.question.apply(lambda x: clean_text(x)))\n",
    "data_words = list(sent_to_words(list(df_question.question)))\n",
    "questions_lemmatized = lemmatization(data_words, allowed_postags=['NOUN', 'VERB']) #select noun and verb"
   ]
  },
  {
   "cell_type": "code",
   "execution_count": 104,
   "metadata": {},
   "outputs": [],
   "source": [
    "filename = './data_1a/questions_lemmatized'\n",
    "outfile = open(filename,'wb')\n",
    "pickle.dump(questions_lemmatized,outfile)\n",
    "outfile.close()"
   ]
  },
  {
   "cell_type": "code",
   "execution_count": 27,
   "metadata": {
    "ExecuteTime": {
     "end_time": "2021-05-11T18:38:32.827520Z",
     "start_time": "2021-05-11T18:38:32.824002Z"
    },
    "scrolled": true
   },
   "outputs": [],
   "source": [
    "id2word = gensim.corpora.Dictionary(questions_lemmatized)\n",
    "corpus = [id2word.doc2bow(text) for text in questions_lemmatized]"
   ]
  },
  {
   "cell_type": "code",
   "execution_count": 106,
   "metadata": {},
   "outputs": [],
   "source": [
    "filename = './data_1a/corpus'\n",
    "outfile = open(filename,'wb')\n",
    "pickle.dump(corpus,outfile)\n",
    "outfile.close()"
   ]
  },
  {
   "cell_type": "markdown",
   "metadata": {},
   "source": [
    "## Calculate coherence scores on 3 different years to find best number of topics"
   ]
  },
  {
   "cell_type": "code",
   "execution_count": 12,
   "metadata": {},
   "outputs": [],
   "source": [
    "# adapted from https://www.machinelearningplus.com/nlp/topic-modeling-gensim-python/#17howtofindtheoptimalnumberoftopicsforlda\n",
    "def compute_coherence_values(dictionary, corp, texts, limit, start=2, step=3):\n",
    "    \"\"\"\n",
    "    Compute c_v coherence for various number of topics\n",
    "\n",
    "    Parameters:\n",
    "    ----------\n",
    "    dictionary : Gensim dictionary\n",
    "    corpus : Gensim corpus\n",
    "    texts : List of input texts\n",
    "    limit : Max num of topics\n",
    "\n",
    "    Returns:\n",
    "    -------\n",
    "    model_list : List of LDA topic models\n",
    "    coherence_values : Coherence values corresponding to the LDA model with respective number of topics\n",
    "    \"\"\"\n",
    "    coherence_values = []\n",
    "    model_list = []\n",
    "    for num_topics in range(start, limit, step):\n",
    "        lda_model = ldamodel.LdaModel(corpus=corp, id2word=dictionary, num_topics=num_topics)\n",
    "        coherencemodel = CoherenceModel(model=lda_model, texts=texts, dictionary=dictionary, coherence='c_v')\n",
    "        coherence_values.append(coherencemodel.get_coherence())\n",
    "\n",
    "    return model_list, coherence_values"
   ]
  },
  {
   "cell_type": "code",
   "execution_count": 16,
   "metadata": {},
   "outputs": [],
   "source": [
    "one_yr = df[df.year==1984]\n",
    "d = pd.DataFrame(one_yr.question.apply(lambda x: clean_text(x)))\n",
    "dw = list(sent_to_words(list(d.question)))\n",
    "lemm = lemmatization(dw, allowed_postags=['NOUN', 'VERB']) #select noun and verb\n",
    "id2word_1984 = gensim.corpora.Dictionary(lemm)\n",
    "corpus_1984 = [id2word_1984.doc2bow(text) for text in lemm]\n",
    "_, coherence_values_1984 = compute_coherence_values(dictionary=id2word_1984, corp=corpus_1984, texts=lemm, start=2, limit=100, step=6)"
   ]
  },
  {
   "cell_type": "code",
   "execution_count": 17,
   "metadata": {},
   "outputs": [],
   "source": [
    "one_yr = df[df.year==1994]\n",
    "d = pd.DataFrame(one_yr.question.apply(lambda x: clean_text(x)))\n",
    "dw = list(sent_to_words(list(d.question)))\n",
    "lemm = lemmatization(dw, allowed_postags=['NOUN', 'VERB']) #select noun and verb\n",
    "id2word_1994 = gensim.corpora.Dictionary(lemm)\n",
    "corpus_1994 = [id2word_1994.doc2bow(text) for text in lemm]\n",
    "_, coherence_values_1994 = compute_coherence_values(dictionary=id2word_1994, corp=corpus_1994, texts=lemm, start=2, limit=100, step=6)"
   ]
  },
  {
   "cell_type": "code",
   "execution_count": 18,
   "metadata": {},
   "outputs": [],
   "source": [
    "one_yr = df[df.year==2004]\n",
    "d = pd.DataFrame(one_yr.question.apply(lambda x: clean_text(x)))\n",
    "dw = list(sent_to_words(list(d.question)))\n",
    "lemm = lemmatization(dw, allowed_postags=['NOUN', 'VERB']) #select noun and verb\n",
    "id2word_2004 = gensim.corpora.Dictionary(lemm)\n",
    "corpus_2004 = [id2word_2004.doc2bow(text) for text in lemm]\n",
    "_, coherence_values_2004 = compute_coherence_values(dictionary=id2word_2004, corp=corpus_2004, texts=lemm, start=2, limit=100, step=6)"
   ]
  },
  {
   "cell_type": "code",
   "execution_count": 19,
   "metadata": {},
   "outputs": [
    {
     "data": {
      "image/png": "[encoded data removed]",
      "text/plain": [
       "<Figure size 432x288 with 1 Axes>"
      ]
     },
     "metadata": {
      "needs_background": "light"
     },
     "output_type": "display_data"
    }
   ],
   "source": [
    "# Show graph\n",
    "limit=100; start=2; step=6;\n",
    "x = range(start, limit, step)\n",
    "plt.plot(x, coherence_values_1984, label='1984')\n",
    "plt.plot(x, coherence_values_1994, label='1994')\n",
    "plt.plot(x, coherence_values_2004, label='2004')\n",
    "\n",
    "plt.xlabel(\"Num Topics\")\n",
    "plt.ylabel(\"Coherence score\")\n",
    "plt.title('Num Topics vs. Coherence Score')\n",
    "plt.legend()\n",
    "plt.show()"
   ]
  },
  {
   "cell_type": "markdown",
   "metadata": {},
   "source": [
    "Based on coherence plots for 1984, 1994, and 2004, it looks like 15-20 topics is a reasonable amount for the full dataset. We don't want our topics to be too similar to each other"
   ]
  },
  {
   "cell_type": "markdown",
   "metadata": {},
   "source": [
    "# Run LDA on full dataset"
   ]
  },
  {
   "cell_type": "markdown",
   "metadata": {},
   "source": [
    "### Generate and save corpus and fitted model"
   ]
  },
  {
   "cell_type": "code",
   "execution_count": 28,
   "metadata": {
    "ExecuteTime": {
     "end_time": "2021-05-11T18:39:42.261367Z",
     "start_time": "2021-05-11T18:39:41.456019Z"
    }
   },
   "outputs": [],
   "source": [
    "lda = ldamodel.LdaModel(corpus=corpus, id2word=id2word, num_topics=20)"
   ]
  },
  {
   "cell_type": "code",
   "execution_count": 29,
   "metadata": {},
   "outputs": [],
   "source": [
    "lda.save('./data_1a/lda_trained')"
   ]
  },
  {
   "cell_type": "markdown",
   "metadata": {},
   "source": [
    "# Start Running Here!"
   ]
  },
  {
   "cell_type": "markdown",
   "metadata": {},
   "source": [
    "### Load saved files"
   ]
  },
  {
   "cell_type": "code",
   "execution_count": 3,
   "metadata": {},
   "outputs": [],
   "source": [
    "import pickle"
   ]
  },
  {
   "cell_type": "code",
   "execution_count": 4,
   "metadata": {},
   "outputs": [],
   "source": [
    "filename = './data_1a/corpus'\n",
    "infile = open(filename,'rb')\n",
    "corpus = pickle.load(infile)\n",
    "infile.close()"
   ]
  },
  {
   "cell_type": "code",
   "execution_count": 8,
   "metadata": {},
   "outputs": [],
   "source": [
    "#! pip install python-Levenshtein"
   ]
  },
  {
   "cell_type": "code",
   "execution_count": 9,
   "metadata": {},
   "outputs": [],
   "source": [
    "filename = './data_1a/lda_trained.id2word'\n",
    "infile = open(filename,'rb')\n",
    "id2word = pickle.load(infile)\n",
    "infile.close()"
   ]
  },
  {
   "cell_type": "code",
   "execution_count": 13,
   "metadata": {},
   "outputs": [],
   "source": [
    "filename = './data_1a/lda_trained'\n",
    "lda = ldamodel.LdaModel.load(filename)"
   ]
  },
  {
   "cell_type": "markdown",
   "metadata": {},
   "source": [
    "### Get LDA topics"
   ]
  },
  {
   "cell_type": "code",
   "execution_count": 15,
   "metadata": {
    "ExecuteTime": {
     "end_time": "2021-05-11T18:39:57.832465Z",
     "start_time": "2021-05-11T18:39:57.810117Z"
    }
   },
   "outputs": [
    {
     "data": {
      "text/html": [
       "<div>\n",
       "<style scoped>\n",
       "    .dataframe tbody tr th:only-of-type {\n",
       "        vertical-align: middle;\n",
       "    }\n",
       "\n",
       "    .dataframe tbody tr th {\n",
       "        vertical-align: top;\n",
       "    }\n",
       "\n",
       "    .dataframe thead th {\n",
       "        text-align: right;\n",
       "    }\n",
       "</style>\n",
       "<table border=\"1\" class=\"dataframe\">\n",
       "  <thead>\n",
       "    <tr style=\"text-align: right;\">\n",
       "      <th></th>\n",
       "      <th>Topic # 01</th>\n",
       "      <th>Topic # 02</th>\n",
       "      <th>Topic # 03</th>\n",
       "      <th>Topic # 04</th>\n",
       "      <th>Topic # 05</th>\n",
       "      <th>Topic # 06</th>\n",
       "      <th>Topic # 07</th>\n",
       "      <th>Topic # 08</th>\n",
       "      <th>Topic # 09</th>\n",
       "      <th>Topic # 10</th>\n",
       "      <th>Topic # 11</th>\n",
       "      <th>Topic # 12</th>\n",
       "      <th>Topic # 13</th>\n",
       "      <th>Topic # 14</th>\n",
       "      <th>Topic # 15</th>\n",
       "      <th>Topic # 16</th>\n",
       "      <th>Topic # 17</th>\n",
       "      <th>Topic # 18</th>\n",
       "      <th>Topic # 19</th>\n",
       "      <th>Topic # 20</th>\n",
       "    </tr>\n",
       "  </thead>\n",
       "  <tbody>\n",
       "    <tr>\n",
       "      <th>0</th>\n",
       "      <td>time</td>\n",
       "      <td>use</td>\n",
       "      <td>woman</td>\n",
       "      <td>include</td>\n",
       "      <td>film</td>\n",
       "      <td>s</td>\n",
       "      <td>country</td>\n",
       "      <td>term</td>\n",
       "      <td>know</td>\n",
       "      <td>part</td>\n",
       "      <td>see</td>\n",
       "      <td>city</td>\n",
       "      <td>will</td>\n",
       "      <td>state</td>\n",
       "      <td>island</td>\n",
       "      <td>become</td>\n",
       "      <td>play</td>\n",
       "      <td>hit</td>\n",
       "      <td>go</td>\n",
       "      <td>year</td>\n",
       "    </tr>\n",
       "    <tr>\n",
       "      <th>1</th>\n",
       "      <td>one</td>\n",
       "      <td>take</td>\n",
       "      <td>love</td>\n",
       "      <td>serve</td>\n",
       "      <td>title</td>\n",
       "      <td>get</td>\n",
       "      <td>company</td>\n",
       "      <td>mean</td>\n",
       "      <td>word</td>\n",
       "      <td>bird</td>\n",
       "      <td>type</td>\n",
       "      <td>name</td>\n",
       "      <td>find</td>\n",
       "      <td>president</td>\n",
       "      <td>line</td>\n",
       "      <td>capital</td>\n",
       "      <td>crew</td>\n",
       "      <td>tell</td>\n",
       "      <td>be</td>\n",
       "      <td>write</td>\n",
       "    </tr>\n",
       "    <tr>\n",
       "      <th>2</th>\n",
       "      <td>die</td>\n",
       "      <td>world</td>\n",
       "      <td>run</td>\n",
       "      <td>way</td>\n",
       "      <td>song</td>\n",
       "      <td>group</td>\n",
       "      <td>have</td>\n",
       "      <td>day</td>\n",
       "      <td>come</td>\n",
       "      <td>animal</td>\n",
       "      <td>work</td>\n",
       "      <td>war</td>\n",
       "      <td>star</td>\n",
       "      <td>author</td>\n",
       "      <td>movie</td>\n",
       "      <td>lead</td>\n",
       "      <td>win</td>\n",
       "      <td>set</td>\n",
       "      <td>put</td>\n",
       "      <td>begin</td>\n",
       "    </tr>\n",
       "    <tr>\n",
       "      <th>3</th>\n",
       "      <td>age</td>\n",
       "      <td>character</td>\n",
       "      <td>nickname</td>\n",
       "      <td>turn</td>\n",
       "      <td>feature</td>\n",
       "      <td>form</td>\n",
       "      <td>leave</td>\n",
       "      <td>can</td>\n",
       "      <td>may</td>\n",
       "      <td>name</td>\n",
       "      <td>bear</td>\n",
       "      <td>home</td>\n",
       "      <td>king</td>\n",
       "      <td>story</td>\n",
       "      <td>child</td>\n",
       "      <td>would</td>\n",
       "      <td>show</td>\n",
       "      <td>hear</td>\n",
       "      <td>actor</td>\n",
       "      <td>book</td>\n",
       "    </tr>\n",
       "    <tr>\n",
       "      <th>4</th>\n",
       "      <td>art</td>\n",
       "      <td>game</td>\n",
       "      <td>create</td>\n",
       "      <td>food</td>\n",
       "      <td>stand</td>\n",
       "      <td>novel</td>\n",
       "      <td>leader</td>\n",
       "      <td>people</td>\n",
       "      <td>name</td>\n",
       "      <td>open</td>\n",
       "      <td>name</td>\n",
       "      <td>century</td>\n",
       "      <td>give</td>\n",
       "      <td>head</td>\n",
       "      <td>introduce</td>\n",
       "      <td>refer</td>\n",
       "      <td>clue</td>\n",
       "      <td>music</td>\n",
       "      <td>nation</td>\n",
       "      <td>end</td>\n",
       "    </tr>\n",
       "    <tr>\n",
       "      <th>5</th>\n",
       "      <td>read</td>\n",
       "      <td>place</td>\n",
       "      <td>member</td>\n",
       "      <td>color</td>\n",
       "      <td>play</td>\n",
       "      <td>base</td>\n",
       "      <td>move</td>\n",
       "      <td>person</td>\n",
       "      <td>letter</td>\n",
       "      <td>share</td>\n",
       "      <td>found</td>\n",
       "      <td>river</td>\n",
       "      <td>help</td>\n",
       "      <td>foot</td>\n",
       "      <td>study</td>\n",
       "      <td>sound</td>\n",
       "      <td>team</td>\n",
       "      <td>record</td>\n",
       "      <td>ship</td>\n",
       "      <td>number</td>\n",
       "    </tr>\n",
       "    <tr>\n",
       "      <th>6</th>\n",
       "      <td>site</td>\n",
       "      <td>live</td>\n",
       "      <td>kill</td>\n",
       "      <td>cover</td>\n",
       "      <td>life</td>\n",
       "      <td>could</td>\n",
       "      <td>town</td>\n",
       "      <td>body</td>\n",
       "      <td>call</td>\n",
       "      <td>tree</td>\n",
       "      <td>hold</td>\n",
       "      <td>mile</td>\n",
       "      <td>want</td>\n",
       "      <td>rock</td>\n",
       "      <td>award</td>\n",
       "      <td>should</td>\n",
       "      <td>report</td>\n",
       "      <td>sell</td>\n",
       "      <td>sing</td>\n",
       "      <td>point</td>\n",
       "    </tr>\n",
       "    <tr>\n",
       "      <th>7</th>\n",
       "      <td>design</td>\n",
       "      <td>look</td>\n",
       "      <td>wear</td>\n",
       "      <td>order</td>\n",
       "      <td>school</td>\n",
       "      <td>publish</td>\n",
       "      <td>artist</td>\n",
       "      <td>dog</td>\n",
       "      <td>water</td>\n",
       "      <td>join</td>\n",
       "      <td>make</td>\n",
       "      <td>land</td>\n",
       "      <td>series</td>\n",
       "      <td>sign</td>\n",
       "      <td>ride</td>\n",
       "      <td>try</td>\n",
       "      <td>night</td>\n",
       "      <td>ask</td>\n",
       "      <td>say</td>\n",
       "      <td>change</td>\n",
       "    </tr>\n",
       "    <tr>\n",
       "      <th>8</th>\n",
       "      <td>visit</td>\n",
       "      <td>name</td>\n",
       "      <td>man</td>\n",
       "      <td>law</td>\n",
       "      <td>house</td>\n",
       "      <td>name</td>\n",
       "      <td>band</td>\n",
       "      <td>name</td>\n",
       "      <td>language</td>\n",
       "      <td>plant</td>\n",
       "      <td>wife</td>\n",
       "      <td>battle</td>\n",
       "      <td>build</td>\n",
       "      <td>sea</td>\n",
       "      <td>office</td>\n",
       "      <td>force</td>\n",
       "      <td>name</td>\n",
       "      <td>do</td>\n",
       "      <td>fire</td>\n",
       "      <td>flag</td>\n",
       "    </tr>\n",
       "    <tr>\n",
       "      <th>9</th>\n",
       "      <td>rule</td>\n",
       "      <td>brother</td>\n",
       "      <td>keep</td>\n",
       "      <td>symbol</td>\n",
       "      <td>role</td>\n",
       "      <td>element</td>\n",
       "      <td>meet</td>\n",
       "      <td>describe</td>\n",
       "      <td>follow</td>\n",
       "      <td>version</td>\n",
       "      <td>death</td>\n",
       "      <td>lose</td>\n",
       "      <td>son</td>\n",
       "      <td>family</td>\n",
       "      <td>earth</td>\n",
       "      <td>device</td>\n",
       "      <td>boy</td>\n",
       "      <td>honor</td>\n",
       "      <td>top</td>\n",
       "      <td>inspire</td>\n",
       "    </tr>\n",
       "    <tr>\n",
       "      <th>10</th>\n",
       "      <td>poem</td>\n",
       "      <td>mother</td>\n",
       "      <td>singer</td>\n",
       "      <td>border</td>\n",
       "      <td>fall</td>\n",
       "      <td>guy</td>\n",
       "      <td>government</td>\n",
       "      <td>car</td>\n",
       "      <td>mean</td>\n",
       "      <td>queen</td>\n",
       "      <td>sport</td>\n",
       "      <td>area</td>\n",
       "      <td>start</td>\n",
       "      <td>think</td>\n",
       "      <td>player</td>\n",
       "      <td>item</td>\n",
       "      <td>host</td>\n",
       "      <td>history</td>\n",
       "      <td>let</td>\n",
       "      <td>sister</td>\n",
       "    </tr>\n",
       "    <tr>\n",
       "      <th>11</th>\n",
       "      <td>building</td>\n",
       "      <td>title</td>\n",
       "      <td>girl</td>\n",
       "      <td>cut</td>\n",
       "      <td>eat</td>\n",
       "      <td>receive</td>\n",
       "      <td>coin</td>\n",
       "      <td>eye</td>\n",
       "      <td>meaning</td>\n",
       "      <td>region</td>\n",
       "      <td>cause</td>\n",
       "      <td>add</td>\n",
       "      <td>tv</td>\n",
       "      <td>d</td>\n",
       "      <td>fight</td>\n",
       "      <td>name</td>\n",
       "      <td>latin</td>\n",
       "      <td>tale</td>\n",
       "      <td>field</td>\n",
       "      <td>director</td>\n",
       "    </tr>\n",
       "    <tr>\n",
       "      <th>12</th>\n",
       "      <td>store</td>\n",
       "      <td>kid</td>\n",
       "      <td>thing</td>\n",
       "      <td>deliver</td>\n",
       "      <td>dance</td>\n",
       "      <td>call</td>\n",
       "      <td>name</td>\n",
       "      <td>speak</td>\n",
       "      <td>phrase</td>\n",
       "      <td>lady</td>\n",
       "      <td>variety</td>\n",
       "      <td>lie</td>\n",
       "      <td>need</td>\n",
       "      <td>produce</td>\n",
       "      <td>name</td>\n",
       "      <td>make</td>\n",
       "      <td>actress</td>\n",
       "      <td>paint</td>\n",
       "      <td>make</td>\n",
       "      <td>side</td>\n",
       "    </tr>\n",
       "    <tr>\n",
       "      <th>13</th>\n",
       "      <td>drink</td>\n",
       "      <td>room</td>\n",
       "      <td>event</td>\n",
       "      <td>kind</td>\n",
       "      <td>marry</td>\n",
       "      <td>cross</td>\n",
       "      <td>walk</td>\n",
       "      <td>month</td>\n",
       "      <td>creature</td>\n",
       "      <td>grow</td>\n",
       "      <td>can</td>\n",
       "      <td>capital</td>\n",
       "      <td>appear</td>\n",
       "      <td>daughter</td>\n",
       "      <td>heart</td>\n",
       "      <td>coast</td>\n",
       "      <td>break</td>\n",
       "      <td>pass</td>\n",
       "      <td>send</td>\n",
       "      <td>center</td>\n",
       "    </tr>\n",
       "    <tr>\n",
       "      <th>14</th>\n",
       "      <td>note</td>\n",
       "      <td>today</td>\n",
       "      <td>friend</td>\n",
       "      <td>park</td>\n",
       "      <td>bring</td>\n",
       "      <td>treat</td>\n",
       "      <td>make</td>\n",
       "      <td>brand</td>\n",
       "      <td>governor</td>\n",
       "      <td>call</td>\n",
       "      <td>contain</td>\n",
       "      <td>father</td>\n",
       "      <td>power</td>\n",
       "      <td>name</td>\n",
       "      <td>hero</td>\n",
       "      <td>general</td>\n",
       "      <td>accord</td>\n",
       "      <td>reach</td>\n",
       "      <td>church</td>\n",
       "      <td>novel</td>\n",
       "    </tr>\n",
       "    <tr>\n",
       "      <th>15</th>\n",
       "      <td>ballet</td>\n",
       "      <td>rise</td>\n",
       "      <td>name</td>\n",
       "      <td>model</td>\n",
       "      <td>locate</td>\n",
       "      <td>object</td>\n",
       "      <td>elect</td>\n",
       "      <td>service</td>\n",
       "      <td>gas</td>\n",
       "      <td>precede</td>\n",
       "      <td>list</td>\n",
       "      <td>hand</td>\n",
       "      <td>act</td>\n",
       "      <td>air</td>\n",
       "      <td>talk</td>\n",
       "      <td>steal</td>\n",
       "      <td>piece</td>\n",
       "      <td>buy</td>\n",
       "      <td>gold</td>\n",
       "      <td>name</td>\n",
       "    </tr>\n",
       "    <tr>\n",
       "      <th>16</th>\n",
       "      <td>complete</td>\n",
       "      <td>season</td>\n",
       "      <td>blood</td>\n",
       "      <td>race</td>\n",
       "      <td>front</td>\n",
       "      <td>crime</td>\n",
       "      <td>establish</td>\n",
       "      <td>celebrate</td>\n",
       "      <td>week</td>\n",
       "      <td>unit</td>\n",
       "      <td>horse</td>\n",
       "      <td>instrument</td>\n",
       "      <td>fish</td>\n",
       "      <td>fly</td>\n",
       "      <td>doctor</td>\n",
       "      <td>period</td>\n",
       "      <td>tv</td>\n",
       "      <td>style</td>\n",
       "      <td>pair</td>\n",
       "      <td>develop</td>\n",
       "    </tr>\n",
       "    <tr>\n",
       "      <th>17</th>\n",
       "      <td>shoot</td>\n",
       "      <td>system</td>\n",
       "      <td>return</td>\n",
       "      <td>student</td>\n",
       "      <td>catch</td>\n",
       "      <td>attack</td>\n",
       "      <td>business</td>\n",
       "      <td>street</td>\n",
       "      <td>hour</td>\n",
       "      <td>album</td>\n",
       "      <td>call</td>\n",
       "      <td>call</td>\n",
       "      <td>poet</td>\n",
       "      <td>lake</td>\n",
       "      <td>pay</td>\n",
       "      <td>capture</td>\n",
       "      <td>space</td>\n",
       "      <td>control</td>\n",
       "      <td>date</td>\n",
       "      <td>travel</td>\n",
       "    </tr>\n",
       "    <tr>\n",
       "      <th>18</th>\n",
       "      <td>measure</td>\n",
       "      <td>voice</td>\n",
       "      <td>say</td>\n",
       "      <td>dish</td>\n",
       "      <td>movie</td>\n",
       "      <td>machine</td>\n",
       "      <td>minute</td>\n",
       "      <td>magazine</td>\n",
       "      <td>ball</td>\n",
       "      <td>statue</td>\n",
       "      <td>opera</td>\n",
       "      <td>invent</td>\n",
       "      <td>say</td>\n",
       "      <td>specie</td>\n",
       "      <td>continent</td>\n",
       "      <td>lion</td>\n",
       "      <td>baby</td>\n",
       "      <td>must</td>\n",
       "      <td>job</td>\n",
       "      <td>believe</td>\n",
       "    </tr>\n",
       "    <tr>\n",
       "      <th>19</th>\n",
       "      <td>painting</td>\n",
       "      <td>make</td>\n",
       "      <td>husband</td>\n",
       "      <td>wine</td>\n",
       "      <td>release</td>\n",
       "      <td>wonder</td>\n",
       "      <td>cat</td>\n",
       "      <td>mark</td>\n",
       "      <td>make</td>\n",
       "      <td>organ</td>\n",
       "      <td>man</td>\n",
       "      <td>egg</td>\n",
       "      <td>party</td>\n",
       "      <td>arm</td>\n",
       "      <td>throw</td>\n",
       "      <td>bar</td>\n",
       "      <td>sun</td>\n",
       "      <td>college</td>\n",
       "      <td>metal</td>\n",
       "      <td>man</td>\n",
       "    </tr>\n",
       "  </tbody>\n",
       "</table>\n",
       "</div>"
      ],
      "text/plain": [
       "   Topic # 01 Topic # 02 Topic # 03 Topic # 04 Topic # 05 Topic # 06  \\\n",
       "0        time        use      woman    include       film          s   \n",
       "1         one       take       love      serve      title        get   \n",
       "2         die      world        run        way       song      group   \n",
       "3         age  character   nickname       turn    feature       form   \n",
       "4         art       game     create       food      stand      novel   \n",
       "5        read      place     member      color       play       base   \n",
       "6        site       live       kill      cover       life      could   \n",
       "7      design       look       wear      order     school    publish   \n",
       "8       visit       name        man        law      house       name   \n",
       "9        rule    brother       keep     symbol       role    element   \n",
       "10       poem     mother     singer     border       fall        guy   \n",
       "11   building      title       girl        cut        eat    receive   \n",
       "12      store        kid      thing    deliver      dance       call   \n",
       "13      drink       room      event       kind      marry      cross   \n",
       "14       note      today     friend       park      bring      treat   \n",
       "15     ballet       rise       name      model     locate     object   \n",
       "16   complete     season      blood       race      front      crime   \n",
       "17      shoot     system     return    student      catch     attack   \n",
       "18    measure      voice        say       dish      movie    machine   \n",
       "19   painting       make    husband       wine    release     wonder   \n",
       "\n",
       "    Topic # 07 Topic # 08 Topic # 09 Topic # 10 Topic # 11  Topic # 12  \\\n",
       "0      country       term       know       part        see        city   \n",
       "1      company       mean       word       bird       type        name   \n",
       "2         have        day       come     animal       work         war   \n",
       "3        leave        can        may       name       bear        home   \n",
       "4       leader     people       name       open       name     century   \n",
       "5         move     person     letter      share      found       river   \n",
       "6         town       body       call       tree       hold        mile   \n",
       "7       artist        dog      water       join       make        land   \n",
       "8         band       name   language      plant       wife      battle   \n",
       "9         meet   describe     follow    version      death        lose   \n",
       "10  government        car       mean      queen      sport        area   \n",
       "11        coin        eye    meaning     region      cause         add   \n",
       "12        name      speak     phrase       lady    variety         lie   \n",
       "13        walk      month   creature       grow        can     capital   \n",
       "14        make      brand   governor       call    contain      father   \n",
       "15       elect    service        gas    precede       list        hand   \n",
       "16   establish  celebrate       week       unit      horse  instrument   \n",
       "17    business     street       hour      album       call        call   \n",
       "18      minute   magazine       ball     statue      opera      invent   \n",
       "19         cat       mark       make      organ        man         egg   \n",
       "\n",
       "   Topic # 13 Topic # 14 Topic # 15 Topic # 16 Topic # 17 Topic # 18  \\\n",
       "0        will      state     island     become       play        hit   \n",
       "1        find  president       line    capital       crew       tell   \n",
       "2        star     author      movie       lead        win        set   \n",
       "3        king      story      child      would       show       hear   \n",
       "4        give       head  introduce      refer       clue      music   \n",
       "5        help       foot      study      sound       team     record   \n",
       "6        want       rock      award     should     report       sell   \n",
       "7      series       sign       ride        try      night        ask   \n",
       "8       build        sea     office      force       name         do   \n",
       "9         son     family      earth     device        boy      honor   \n",
       "10      start      think     player       item       host    history   \n",
       "11         tv          d      fight       name      latin       tale   \n",
       "12       need    produce       name       make    actress      paint   \n",
       "13     appear   daughter      heart      coast      break       pass   \n",
       "14      power       name       hero    general     accord      reach   \n",
       "15        act        air       talk      steal      piece        buy   \n",
       "16       fish        fly     doctor     period         tv      style   \n",
       "17       poet       lake        pay    capture      space    control   \n",
       "18        say     specie  continent       lion       baby       must   \n",
       "19      party        arm      throw        bar        sun    college   \n",
       "\n",
       "   Topic # 19 Topic # 20  \n",
       "0          go       year  \n",
       "1          be      write  \n",
       "2         put      begin  \n",
       "3       actor       book  \n",
       "4      nation        end  \n",
       "5        ship     number  \n",
       "6        sing      point  \n",
       "7         say     change  \n",
       "8        fire       flag  \n",
       "9         top    inspire  \n",
       "10        let     sister  \n",
       "11      field   director  \n",
       "12       make       side  \n",
       "13       send     center  \n",
       "14     church      novel  \n",
       "15       gold       name  \n",
       "16       pair    develop  \n",
       "17       date     travel  \n",
       "18        job    believe  \n",
       "19      metal        man  "
      ]
     },
     "execution_count": 15,
     "metadata": {},
     "output_type": "execute_result"
    }
   ],
   "source": [
    "def get_lda_topics(model, num_topics):\n",
    "    word_dict = {};\n",
    "    for i in range(num_topics):\n",
    "        words = model.show_topic(i, topn = 20);\n",
    "        word_dict['Topic # ' + '{:02d}'.format(i+1)] = [i[0] for i in words];\n",
    "    return pd.DataFrame(word_dict);\n",
    "\n",
    "get_lda_topics(lda, 20)"
   ]
  },
  {
   "cell_type": "markdown",
   "metadata": {},
   "source": [
    "### Topics for document 0 "
   ]
  },
  {
   "cell_type": "code",
   "execution_count": 16,
   "metadata": {},
   "outputs": [
    {
     "data": {
      "text/plain": [
       "[(4, 0.4975103), (6, 0.17497063), (19, 0.18584527)]"
      ]
     },
     "execution_count": 16,
     "metadata": {},
     "output_type": "execute_result"
    }
   ],
   "source": [
    "lda.get_document_topics(corpus[0])"
   ]
  },
  {
   "cell_type": "markdown",
   "metadata": {},
   "source": [
    "This shows that there is a 49 probability that this document is in topic 4, a 17% probability that it is in topic 6, etc."
   ]
  },
  {
   "cell_type": "markdown",
   "metadata": {},
   "source": [
    "### Get best topic for each doc"
   ]
  },
  {
   "cell_type": "code",
   "execution_count": 17,
   "metadata": {},
   "outputs": [],
   "source": [
    "most_likely_topic=[]\n",
    "for doc in corpus:\n",
    "    likelihoods = dict(lda.get_document_topics(doc))\n",
    "    most_likely_topic.append(max(likelihoods,key=likelihoods.get))"
   ]
  },
  {
   "cell_type": "code",
   "execution_count": 120,
   "metadata": {},
   "outputs": [],
   "source": [
    "df['topic'] = most_likely_topic"
   ]
  },
  {
   "cell_type": "code",
   "execution_count": 121,
   "metadata": {},
   "outputs": [
    {
     "data": {
      "text/html": [
       "<div>\n",
       "<style scoped>\n",
       "    .dataframe tbody tr th:only-of-type {\n",
       "        vertical-align: middle;\n",
       "    }\n",
       "\n",
       "    .dataframe tbody tr th {\n",
       "        vertical-align: top;\n",
       "    }\n",
       "\n",
       "    .dataframe thead th {\n",
       "        text-align: right;\n",
       "    }\n",
       "</style>\n",
       "<table border=\"1\" class=\"dataframe\">\n",
       "  <thead>\n",
       "    <tr style=\"text-align: right;\">\n",
       "      <th></th>\n",
       "      <th>show_id</th>\n",
       "      <th>date</th>\n",
       "      <th>round</th>\n",
       "      <th>category</th>\n",
       "      <th>value</th>\n",
       "      <th>question</th>\n",
       "      <th>answer</th>\n",
       "      <th>year</th>\n",
       "      <th>topic</th>\n",
       "    </tr>\n",
       "  </thead>\n",
       "  <tbody>\n",
       "    <tr>\n",
       "      <th>0</th>\n",
       "      <td>4680</td>\n",
       "      <td>2004-12-31</td>\n",
       "      <td>Jeopardy!</td>\n",
       "      <td>HISTORY</td>\n",
       "      <td>200</td>\n",
       "      <td>For the last 8 years of his life, Galileo was ...</td>\n",
       "      <td>Copernicus</td>\n",
       "      <td>2004</td>\n",
       "      <td>4</td>\n",
       "    </tr>\n",
       "    <tr>\n",
       "      <th>1</th>\n",
       "      <td>4680</td>\n",
       "      <td>2004-12-31</td>\n",
       "      <td>Jeopardy!</td>\n",
       "      <td>ESPN's TOP 10 ALL-TIME ATHLETES</td>\n",
       "      <td>200</td>\n",
       "      <td>No. 2: 1912 Olympian; football star at Carlisl...</td>\n",
       "      <td>Jim Thorpe</td>\n",
       "      <td>2004</td>\n",
       "      <td>2</td>\n",
       "    </tr>\n",
       "    <tr>\n",
       "      <th>2</th>\n",
       "      <td>4680</td>\n",
       "      <td>2004-12-31</td>\n",
       "      <td>Jeopardy!</td>\n",
       "      <td>EVERYBODY TALKS ABOUT IT...</td>\n",
       "      <td>200</td>\n",
       "      <td>The city of Yuma in this state has a record av...</td>\n",
       "      <td>Arizona</td>\n",
       "      <td>2004</td>\n",
       "      <td>17</td>\n",
       "    </tr>\n",
       "    <tr>\n",
       "      <th>3</th>\n",
       "      <td>4680</td>\n",
       "      <td>2004-12-31</td>\n",
       "      <td>Jeopardy!</td>\n",
       "      <td>THE COMPANY LINE</td>\n",
       "      <td>200</td>\n",
       "      <td>In 1963, live on \"The Art Linkletter Show\", th...</td>\n",
       "      <td>McDonald's</td>\n",
       "      <td>2004</td>\n",
       "      <td>16</td>\n",
       "    </tr>\n",
       "    <tr>\n",
       "      <th>4</th>\n",
       "      <td>4680</td>\n",
       "      <td>2004-12-31</td>\n",
       "      <td>Jeopardy!</td>\n",
       "      <td>EPITAPHS &amp; TRIBUTES</td>\n",
       "      <td>200</td>\n",
       "      <td>Signer of the Dec. of Indep., framer of the Co...</td>\n",
       "      <td>John Adams</td>\n",
       "      <td>2004</td>\n",
       "      <td>13</td>\n",
       "    </tr>\n",
       "    <tr>\n",
       "      <th>...</th>\n",
       "      <td>...</td>\n",
       "      <td>...</td>\n",
       "      <td>...</td>\n",
       "      <td>...</td>\n",
       "      <td>...</td>\n",
       "      <td>...</td>\n",
       "      <td>...</td>\n",
       "      <td>...</td>\n",
       "      <td>...</td>\n",
       "    </tr>\n",
       "    <tr>\n",
       "      <th>216925</th>\n",
       "      <td>4999</td>\n",
       "      <td>2006-05-11</td>\n",
       "      <td>Double Jeopardy!</td>\n",
       "      <td>RIDDLE ME THIS</td>\n",
       "      <td>2000</td>\n",
       "      <td>This Puccini opera turns on the solution to 3 ...</td>\n",
       "      <td>Turandot</td>\n",
       "      <td>2006</td>\n",
       "      <td>3</td>\n",
       "    </tr>\n",
       "    <tr>\n",
       "      <th>216926</th>\n",
       "      <td>4999</td>\n",
       "      <td>2006-05-11</td>\n",
       "      <td>Double Jeopardy!</td>\n",
       "      <td>\"T\" BIRDS</td>\n",
       "      <td>2000</td>\n",
       "      <td>In North America this term is properly applied...</td>\n",
       "      <td>a titmouse</td>\n",
       "      <td>2006</td>\n",
       "      <td>3</td>\n",
       "    </tr>\n",
       "    <tr>\n",
       "      <th>216927</th>\n",
       "      <td>4999</td>\n",
       "      <td>2006-05-11</td>\n",
       "      <td>Double Jeopardy!</td>\n",
       "      <td>AUTHORS IN THEIR YOUTH</td>\n",
       "      <td>2000</td>\n",
       "      <td>In Penny Lane, where this \"Hellraiser\" grew up...</td>\n",
       "      <td>Clive Barker</td>\n",
       "      <td>2006</td>\n",
       "      <td>9</td>\n",
       "    </tr>\n",
       "    <tr>\n",
       "      <th>216928</th>\n",
       "      <td>4999</td>\n",
       "      <td>2006-05-11</td>\n",
       "      <td>Double Jeopardy!</td>\n",
       "      <td>QUOTATIONS</td>\n",
       "      <td>2000</td>\n",
       "      <td>From Ft. Sill, Okla. he made the plea, Arizona...</td>\n",
       "      <td>Geronimo</td>\n",
       "      <td>2006</td>\n",
       "      <td>11</td>\n",
       "    </tr>\n",
       "    <tr>\n",
       "      <th>216929</th>\n",
       "      <td>4999</td>\n",
       "      <td>2006-05-11</td>\n",
       "      <td>Final Jeopardy!</td>\n",
       "      <td>HISTORIC NAMES</td>\n",
       "      <td>0</td>\n",
       "      <td>A silent movie title includes the last name of...</td>\n",
       "      <td>Grigori Alexandrovich Potemkin</td>\n",
       "      <td>2006</td>\n",
       "      <td>14</td>\n",
       "    </tr>\n",
       "  </tbody>\n",
       "</table>\n",
       "<p>216930 rows × 9 columns</p>\n",
       "</div>"
      ],
      "text/plain": [
       "        show_id        date             round  \\\n",
       "0          4680  2004-12-31         Jeopardy!   \n",
       "1          4680  2004-12-31         Jeopardy!   \n",
       "2          4680  2004-12-31         Jeopardy!   \n",
       "3          4680  2004-12-31         Jeopardy!   \n",
       "4          4680  2004-12-31         Jeopardy!   \n",
       "...         ...         ...               ...   \n",
       "216925     4999  2006-05-11  Double Jeopardy!   \n",
       "216926     4999  2006-05-11  Double Jeopardy!   \n",
       "216927     4999  2006-05-11  Double Jeopardy!   \n",
       "216928     4999  2006-05-11  Double Jeopardy!   \n",
       "216929     4999  2006-05-11   Final Jeopardy!   \n",
       "\n",
       "                               category  value  \\\n",
       "0                               HISTORY    200   \n",
       "1       ESPN's TOP 10 ALL-TIME ATHLETES    200   \n",
       "2           EVERYBODY TALKS ABOUT IT...    200   \n",
       "3                      THE COMPANY LINE    200   \n",
       "4                   EPITAPHS & TRIBUTES    200   \n",
       "...                                 ...    ...   \n",
       "216925                   RIDDLE ME THIS   2000   \n",
       "216926                        \"T\" BIRDS   2000   \n",
       "216927           AUTHORS IN THEIR YOUTH   2000   \n",
       "216928                       QUOTATIONS   2000   \n",
       "216929                   HISTORIC NAMES      0   \n",
       "\n",
       "                                                 question  \\\n",
       "0       For the last 8 years of his life, Galileo was ...   \n",
       "1       No. 2: 1912 Olympian; football star at Carlisl...   \n",
       "2       The city of Yuma in this state has a record av...   \n",
       "3       In 1963, live on \"The Art Linkletter Show\", th...   \n",
       "4       Signer of the Dec. of Indep., framer of the Co...   \n",
       "...                                                   ...   \n",
       "216925  This Puccini opera turns on the solution to 3 ...   \n",
       "216926  In North America this term is properly applied...   \n",
       "216927  In Penny Lane, where this \"Hellraiser\" grew up...   \n",
       "216928  From Ft. Sill, Okla. he made the plea, Arizona...   \n",
       "216929  A silent movie title includes the last name of...   \n",
       "\n",
       "                                answer  year  topic  \n",
       "0                           Copernicus  2004      4  \n",
       "1                           Jim Thorpe  2004      2  \n",
       "2                              Arizona  2004     17  \n",
       "3                           McDonald's  2004     16  \n",
       "4                           John Adams  2004     13  \n",
       "...                                ...   ...    ...  \n",
       "216925                        Turandot  2006      3  \n",
       "216926                      a titmouse  2006      3  \n",
       "216927                    Clive Barker  2006      9  \n",
       "216928                        Geronimo  2006     11  \n",
       "216929  Grigori Alexandrovich Potemkin  2006     14  \n",
       "\n",
       "[216930 rows x 9 columns]"
      ]
     },
     "execution_count": 121,
     "metadata": {},
     "output_type": "execute_result"
    }
   ],
   "source": [
    "df"
   ]
  },
  {
   "cell_type": "markdown",
   "metadata": {},
   "source": [
    "# Analysis of topics between rounds"
   ]
  },
  {
   "cell_type": "code",
   "execution_count": 42,
   "metadata": {},
   "outputs": [],
   "source": [
    "dfs= [x for _, x in df.groupby('round')]"
   ]
  },
  {
   "cell_type": "code",
   "execution_count": 170,
   "metadata": {},
   "outputs": [
    {
     "data": {
      "image/png": "[encoded data removed]",
      "text/plain": [
       "<Figure size 432x288 with 1 Axes>"
      ]
     },
     "metadata": {
      "needs_background": "light"
     },
     "output_type": "display_data"
    },
    {
     "data": {
      "image/png": "[encoded data removed]",
      "text/plain": [
       "<Figure size 432x288 with 1 Axes>"
      ]
     },
     "metadata": {
      "needs_background": "light"
     },
     "output_type": "display_data"
    },
    {
     "data": {
      "image/png": "[encoded data removed]",
      "text/plain": [
       "<Figure size 432x288 with 1 Axes>"
      ]
     },
     "metadata": {
      "needs_background": "light"
     },
     "output_type": "display_data"
    }
   ],
   "source": [
    "num_topics = len(jeopardy_df['topic'].unique())\n",
    "top_topics=[]\n",
    "for df in dfs[:-1]:\n",
    "    topic_counts = [0]*num_topics\n",
    "    for topic in df['topic']:\n",
    "        topic_counts[topic]+=1\n",
    "    topics_perc = [count/sum(topic_counts) for count in topic_counts]\n",
    "    plt.bar(range(20), topics_perc)\n",
    "    plt.title(df['round'].iloc[0])\n",
    "    plt.ylim(0, 0.11)\n",
    "    plt.show()\n",
    "    top_topics.append((-np.array(topics_perc)).argsort()[:5])"
   ]
  },
  {
   "cell_type": "code",
   "execution_count": 172,
   "metadata": {},
   "outputs": [
    {
     "data": {
      "text/plain": [
       "[array([ 0, 10,  8, 11, 16]),\n",
       " array([19, 11,  8, 13,  1]),\n",
       " array([ 0, 10,  8, 11,  1])]"
      ]
     },
     "execution_count": 172,
     "metadata": {},
     "output_type": "execute_result"
    }
   ],
   "source": [
    "top_topics # Double Jeopardy, Final Jeopardy, Jeopardy"
   ]
  },
  {
   "cell_type": "markdown",
   "metadata": {},
   "source": [
    "Both Double Jeopardy and Jeopardy have very similar top topics, while Final Jeopardy has different topics apear more frequently."
   ]
  },
  {
   "cell_type": "markdown",
   "metadata": {},
   "source": [
    "# Analysis of Rounds over time"
   ]
  },
  {
   "cell_type": "code",
   "execution_count": 141,
   "metadata": {},
   "outputs": [],
   "source": [
    "def plot_distbns(df, k=None):\n",
    "    \"\"\"\n",
    "    plots distribtions\n",
    "    AND\n",
    "    return the top k topics for each year\n",
    "    \"\"\"\n",
    "    year_idx = []\n",
    "    d = {i:[0]*20 for i in range(1984,2013)}\n",
    "    for i, row in df.iterrows():\n",
    "        topic = d[row['year']]\n",
    "        topic[row['topic']]+=1\n",
    "        d[row['year']] = topic\n",
    "\n",
    "    #calculating percent of each topic per year\n",
    "    for year in d:\n",
    "        d[year] = [count/sum(d[year]) for count in d[year]]\n",
    "        if k is not None:\n",
    "            idx = (-np.array(d[year])).argsort()[:k]\n",
    "            year_idx.append(idx)\n",
    "    #plotting dibstribnitons   \n",
    "    fig, axs = plt.subplots(4,7,figsize=(22,12))\n",
    "    index= 0\n",
    "    years = list(d.keys())\n",
    "    for i in range(4):\n",
    "        for j in range(7):\n",
    "            axs[i,j].bar(range(20), d[years[index]])\n",
    "            axs[i,j].set_title(years[index])\n",
    "            axs[i,j].set_ylim([0.0, 0.14])\n",
    "            index +=1\n",
    "    return year_idx"
   ]
  },
  {
   "cell_type": "markdown",
   "metadata": {},
   "source": [
    "## Double Jeopardy"
   ]
  },
  {
   "cell_type": "code",
   "execution_count": 160,
   "metadata": {},
   "outputs": [
    {
     "data": {
      "image/png": "[encoded data removed]",
      "text/plain": [
       "<Figure size 1584x864 with 28 Axes>"
      ]
     },
     "metadata": {
      "needs_background": "light"
     },
     "output_type": "display_data"
    }
   ],
   "source": [
    "double_idx = plot_distbns(dfs[0],5)"
   ]
  },
  {
   "cell_type": "code",
   "execution_count": 158,
   "metadata": {},
   "outputs": [
    {
     "data": {
      "text/plain": [
       "[array([ 0, 11, 13, 16,  1]),\n",
       " array([ 8,  1,  0, 11, 15]),\n",
       " array([11,  8,  0,  6, 19]),\n",
       " array([ 8, 11,  1,  4, 12]),\n",
       " array([11,  0,  1, 19,  8]),\n",
       " array([19,  8, 11,  4, 12]),\n",
       " array([19,  8, 13, 11,  1]),\n",
       " array([19, 11, 13,  8, 12]),\n",
       " array([19, 11,  8,  1, 10]),\n",
       " array([13, 19, 12, 11,  8]),\n",
       " array([ 8, 11, 19, 13, 15]),\n",
       " array([13, 11,  8, 12,  6]),\n",
       " array([11, 13, 19,  8, 10]),\n",
       " array([11,  8, 19, 10, 12]),\n",
       " array([10,  0,  4, 12, 19]),\n",
       " array([ 0, 10,  4, 11,  8]),\n",
       " array([ 0, 10,  8, 11,  4]),\n",
       " array([ 0, 10, 11,  8,  5]),\n",
       " array([ 0, 16, 10,  8, 19]),\n",
       " array([ 0, 11, 10,  8, 16]),\n",
       " array([ 0, 10, 16,  8, 11]),\n",
       " array([ 0, 16, 10,  8, 11]),\n",
       " array([ 0,  8, 16, 10, 11]),\n",
       " array([ 0,  8, 16, 10, 11]),\n",
       " array([ 0,  8, 10, 16, 11]),\n",
       " array([ 0, 16, 10,  8, 11]),\n",
       " array([ 0, 10,  8, 16, 12]),\n",
       " array([ 0,  8, 10, 11, 16]),\n",
       " array([ 0, 10,  8, 11, 16])]"
      ]
     },
     "execution_count": 158,
     "metadata": {},
     "output_type": "execute_result"
    }
   ],
   "source": [
    "# 5 most common topics each year\n",
    "double_idx"
   ]
  },
  {
   "cell_type": "markdown",
   "metadata": {},
   "source": [
    "The most common Double Jeopardy question has been consistent over the last 14 years. After a 9 year drought of that topic in teh top five just two years prior"
   ]
  },
  {
   "cell_type": "markdown",
   "metadata": {},
   "source": [
    "# Final Jeopardy"
   ]
  },
  {
   "cell_type": "code",
   "execution_count": 162,
   "metadata": {},
   "outputs": [
    {
     "data": {
      "image/png": "[encoded data removed]",
      "text/plain": [
       "<Figure size 1584x864 with 28 Axes>"
      ]
     },
     "metadata": {
      "needs_background": "light"
     },
     "output_type": "display_data"
    }
   ],
   "source": [
    "final_idx = plot_distbns(dfs[1], 5)"
   ]
  },
  {
   "cell_type": "markdown",
   "metadata": {},
   "source": [
    "The first 10 years there was less diversity of topics. The variety of questions were limited to less than 20 topics. The more recent 10 became much more diverse across all topics"
   ]
  },
  {
   "cell_type": "code",
   "execution_count": 163,
   "metadata": {},
   "outputs": [
    {
     "data": {
      "text/plain": [
       "[array([19,  1, 14, 13, 11]),\n",
       " array([19, 13, 16, 15, 12]),\n",
       " array([11, 10, 19,  1,  6]),\n",
       " array([13, 11,  9, 10, 19]),\n",
       " array([ 1, 13,  0, 14,  8]),\n",
       " array([13,  4,  1,  3,  5]),\n",
       " array([ 6, 10,  8, 11, 19]),\n",
       " array([ 1, 17, 13, 10, 14]),\n",
       " array([13,  2,  8,  1,  4]),\n",
       " array([ 4, 11, 19,  1, 16]),\n",
       " array([ 4, 16,  7,  8, 11]),\n",
       " array([ 0, 13,  2,  3, 10]),\n",
       " array([19, 11, 13, 17,  6]),\n",
       " array([11,  8,  1, 19, 13]),\n",
       " array([ 1, 11, 19, 10, 13]),\n",
       " array([ 1, 10, 19, 11, 13]),\n",
       " array([11,  1,  4,  8, 19]),\n",
       " array([ 7, 10, 11, 13,  4]),\n",
       " array([ 1, 13, 19,  8, 16]),\n",
       " array([10,  8,  4,  6,  7]),\n",
       " array([19,  8, 13,  1, 10]),\n",
       " array([ 8, 19, 10, 13, 12]),\n",
       " array([ 8, 13, 11,  1, 19]),\n",
       " array([19,  8, 10,  1, 13]),\n",
       " array([19, 13, 11, 10, 12]),\n",
       " array([10, 19,  1, 11,  8]),\n",
       " array([ 1,  8, 19, 13,  5]),\n",
       " array([19, 13,  4, 11,  6]),\n",
       " array([17, 14, 12,  7,  0])]"
      ]
     },
     "execution_count": 163,
     "metadata": {},
     "output_type": "execute_result"
    }
   ],
   "source": [
    "# 5 most common topics each year\n",
    "final_idx"
   ]
  },
  {
   "cell_type": "markdown",
   "metadata": {},
   "source": [
    "The Final Jeopardy round has much more variety of topics each year"
   ]
  },
  {
   "cell_type": "markdown",
   "metadata": {},
   "source": [
    "# Jeopardy"
   ]
  },
  {
   "cell_type": "code",
   "execution_count": 165,
   "metadata": {},
   "outputs": [
    {
     "data": {
      "image/png": "[encoded data removed]",
      "text/plain": [
       "<Figure size 1584x864 with 28 Axes>"
      ]
     },
     "metadata": {
      "needs_background": "light"
     },
     "output_type": "display_data"
    }
   ],
   "source": [
    "j_idx = plot_distbns(dfs[2], 5)"
   ]
  },
  {
   "cell_type": "code",
   "execution_count": 173,
   "metadata": {},
   "outputs": [
    {
     "data": {
      "text/plain": [
       "[array([ 0, 11,  2, 13, 16]),\n",
       " array([ 7,  1,  0, 18,  8]),\n",
       " array([ 1,  0,  8, 11,  2]),\n",
       " array([ 0,  8,  2,  1, 11]),\n",
       " array([ 0, 10,  8,  1, 13]),\n",
       " array([ 1,  8,  7, 10,  0]),\n",
       " array([ 8,  1, 11,  0, 12]),\n",
       " array([11, 10,  8,  4,  7]),\n",
       " array([10,  0,  8, 12,  4]),\n",
       " array([10,  8, 11,  1, 13]),\n",
       " array([11,  8, 10, 13, 19]),\n",
       " array([11, 13,  1, 19,  8]),\n",
       " array([ 8,  0, 11, 10, 13]),\n",
       " array([11,  0,  8, 10,  1]),\n",
       " array([ 0, 10,  8, 12,  1]),\n",
       " array([ 0, 10, 11,  8, 12]),\n",
       " array([ 0, 10, 11,  8, 12]),\n",
       " array([ 0, 10,  8, 11,  2]),\n",
       " array([ 0, 10,  8,  1, 16]),\n",
       " array([ 0, 10,  8, 11,  1]),\n",
       " array([ 0, 10,  8, 11,  1]),\n",
       " array([ 0, 10,  8, 16, 13]),\n",
       " array([ 0, 10, 16,  8, 13]),\n",
       " array([ 0, 10, 11, 16,  8]),\n",
       " array([ 0, 10, 16,  8,  1]),\n",
       " array([ 0, 10,  8, 16,  1]),\n",
       " array([ 0, 10,  8,  7, 16]),\n",
       " array([ 0, 10,  8,  1,  7]),\n",
       " array([ 0,  1, 10,  7, 11])]"
      ]
     },
     "execution_count": 173,
     "metadata": {},
     "output_type": "execute_result"
    }
   ],
   "source": [
    "# 5 most common topics each year\n",
    "j_idx"
   ]
  },
  {
   "cell_type": "markdown",
   "metadata": {},
   "source": [
    "Question topics have been consistent in recent years. 14 of the last 15 years all have topics 0 and topic 10 as the two most common. "
   ]
  },
  {
   "cell_type": "code",
   "execution_count": 131,
   "metadata": {},
   "outputs": [
    {
     "data": {
      "text/html": [
       "<div>\n",
       "<style scoped>\n",
       "    .dataframe tbody tr th:only-of-type {\n",
       "        vertical-align: middle;\n",
       "    }\n",
       "\n",
       "    .dataframe tbody tr th {\n",
       "        vertical-align: top;\n",
       "    }\n",
       "\n",
       "    .dataframe thead th {\n",
       "        text-align: right;\n",
       "    }\n",
       "</style>\n",
       "<table border=\"1\" class=\"dataframe\">\n",
       "  <thead>\n",
       "    <tr style=\"text-align: right;\">\n",
       "      <th></th>\n",
       "      <th>round</th>\n",
       "      <th>topic</th>\n",
       "      <th>count</th>\n",
       "    </tr>\n",
       "  </thead>\n",
       "  <tbody>\n",
       "    <tr>\n",
       "      <th>0</th>\n",
       "      <td>Double Jeopardy!</td>\n",
       "      <td>0</td>\n",
       "      <td>9803</td>\n",
       "    </tr>\n",
       "    <tr>\n",
       "      <th>1</th>\n",
       "      <td>Double Jeopardy!</td>\n",
       "      <td>1</td>\n",
       "      <td>5692</td>\n",
       "    </tr>\n",
       "    <tr>\n",
       "      <th>2</th>\n",
       "      <td>Double Jeopardy!</td>\n",
       "      <td>2</td>\n",
       "      <td>4747</td>\n",
       "    </tr>\n",
       "    <tr>\n",
       "      <th>3</th>\n",
       "      <td>Double Jeopardy!</td>\n",
       "      <td>3</td>\n",
       "      <td>3176</td>\n",
       "    </tr>\n",
       "    <tr>\n",
       "      <th>4</th>\n",
       "      <td>Double Jeopardy!</td>\n",
       "      <td>4</td>\n",
       "      <td>5550</td>\n",
       "    </tr>\n",
       "    <tr>\n",
       "      <th>...</th>\n",
       "      <td>...</td>\n",
       "      <td>...</td>\n",
       "      <td>...</td>\n",
       "    </tr>\n",
       "    <tr>\n",
       "      <th>58</th>\n",
       "      <td>Jeopardy!</td>\n",
       "      <td>18</td>\n",
       "      <td>4879</td>\n",
       "    </tr>\n",
       "    <tr>\n",
       "      <th>59</th>\n",
       "      <td>Jeopardy!</td>\n",
       "      <td>19</td>\n",
       "      <td>5081</td>\n",
       "    </tr>\n",
       "    <tr>\n",
       "      <th>60</th>\n",
       "      <td>Tiebreaker</td>\n",
       "      <td>4</td>\n",
       "      <td>1</td>\n",
       "    </tr>\n",
       "    <tr>\n",
       "      <th>61</th>\n",
       "      <td>Tiebreaker</td>\n",
       "      <td>5</td>\n",
       "      <td>1</td>\n",
       "    </tr>\n",
       "    <tr>\n",
       "      <th>62</th>\n",
       "      <td>Tiebreaker</td>\n",
       "      <td>13</td>\n",
       "      <td>1</td>\n",
       "    </tr>\n",
       "  </tbody>\n",
       "</table>\n",
       "<p>63 rows × 3 columns</p>\n",
       "</div>"
      ],
      "text/plain": [
       "               round  topic  count\n",
       "0   Double Jeopardy!      0   9803\n",
       "1   Double Jeopardy!      1   5692\n",
       "2   Double Jeopardy!      2   4747\n",
       "3   Double Jeopardy!      3   3176\n",
       "4   Double Jeopardy!      4   5550\n",
       "..               ...    ...    ...\n",
       "58         Jeopardy!     18   4879\n",
       "59         Jeopardy!     19   5081\n",
       "60        Tiebreaker      4      1\n",
       "61        Tiebreaker      5      1\n",
       "62        Tiebreaker     13      1\n",
       "\n",
       "[63 rows x 3 columns]"
      ]
     },
     "execution_count": 131,
     "metadata": {},
     "output_type": "execute_result"
    }
   ],
   "source": [
    "df.groupby(['round','topic']).size().to_frame('count').reset_index()"
   ]
  },
  {
   "cell_type": "markdown",
   "metadata": {},
   "source": [
    "# Summary of findings"
   ]
  },
  {
   "cell_type": "markdown",
   "metadata": {},
   "source": [
    "When comparing the topics between the three rounds of Jeopardy (Jeopardy, Double Jeopardy, and Final Jeopardy) we found that the most common topics used in the Jeopardy and Double Jeopardy rounds are almost the same. In both of their top 5 topics were 0, 8, 10, 11. While the Final Jeopardy round's most common topics were different, did not include 0 or 10. "
   ]
  },
  {
   "cell_type": "markdown",
   "metadata": {},
   "source": [
    "When looking at the Jeopardy round over time we saw that of the 15 most recent years, 14 of them. had the same top 2 topic (0 and 10). This means the topics of questions you most often would see in this round havent not changed in over a decade. "
   ]
  },
  {
   "cell_type": "markdown",
   "metadata": {},
   "source": [
    "We see something similar in the Double Jeopard round. Each of the past 14 years' top topics were the same, topic 0. This comes just two years after a 9 year streak of topic 0 not being in top 5 most common topic at all. "
   ]
  },
  {
   "cell_type": "markdown",
   "metadata": {},
   "source": [
    "In the Final Jeopardy round, during the 1980s and 1990s most of the questions were limited to a few topics. There were several topics in which no question was asked in those earlier years. In more recent years, the diversity of teh topics increased, and the top 5 topics consistently change each year. "
   ]
  },
  {
   "cell_type": "code",
   "execution_count": null,
   "metadata": {},
   "outputs": [],
   "source": []
  }
 ],
 "metadata": {
  "kernelspec": {
   "display_name": "Python 3",
   "language": "python",
   "name": "python3"
  },
  "language_info": {
   "codemirror_mode": {
    "name": "ipython",
    "version": 3
   },
   "file_extension": ".py",
   "mimetype": "text/x-python",
   "name": "python",
   "nbconvert_exporter": "python",
   "pygments_lexer": "ipython3",
   "version": "3.8.2"
  }
 },
 "nbformat": 4,
 "nbformat_minor": 5
}
